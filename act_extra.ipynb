{
  "nbformat": 4,
  "nbformat_minor": 0,
  "metadata": {
    "colab": {
      "provenance": []
    },
    "kernelspec": {
      "name": "python3",
      "display_name": "Python 3"
    },
    "language_info": {
      "name": "python"
    }
  },
  "cells": [
    {
      "cell_type": "markdown",
      "source": [
        "#**¿Qué juego toca?**"
      ],
      "metadata": {
        "id": "cmIc8yWKkESv"
      }
    },
    {
      "cell_type": "code",
      "execution_count": null,
      "metadata": {
        "id": "hit57BSsCPfr"
      },
      "outputs": [],
      "source": [
        "from pandas.core.util.numba_ import get_jit_arguments\n",
        "import pandas as pd\n",
        "import numpy as np\n",
        "import matplotlib.pyplot as plt\n",
        "import math"
      ]
    },
    {
      "cell_type": "markdown",
      "source": [
        "# Análisis de info"
      ],
      "metadata": {
        "id": "ApLE8TwQkCD_"
      }
    },
    {
      "cell_type": "code",
      "source": [
        "avance = pd.read_excel(\"avance.xlsx\")\n",
        "avance.head()"
      ],
      "metadata": {
        "colab": {
          "base_uri": "https://localhost:8080/",
          "height": 206
        },
        "id": "nZfnzP5Vl6uK",
        "outputId": "b0ce9b94-5fba-4c22-ea79-5e1dca160c74"
      },
      "execution_count": null,
      "outputs": [
        {
          "output_type": "execute_result",
          "data": {
            "text/plain": [
              "                                       Game             Genre  \\\n",
              "0                    Dr. Mario Miracle Cure            Puzzle   \n",
              "1  The Legend of Zelda: Link's Awakening DX  Action-Adventure   \n",
              "2                      Kirby's Dream Land 2            Action   \n",
              "3                             Wario Land II        Platformer   \n",
              "4                                 Rayman 3D            Action   \n",
              "\n",
              "            Subgenre  Main     1    %  T invertido    t% extra  \n",
              "0         Logic Game   3.0   4.0  100          3.0   33.333333  \n",
              "1   Action-Adventure  15.0  18.0  100         15.0   20.000000  \n",
              "2  Action-Platformer   3.0   5.0  100          3.0   66.666667  \n",
              "3             Puzzle   6.0  14.0  100          6.0  133.333333  \n",
              "4      3D Platformer   8.0  13.0  100          8.0   62.500000  "
            ],
            "text/html": [
              "\n",
              "  <div id=\"df-7e8f8254-ca46-4800-ba7c-92fb79cd54c6\">\n",
              "    <div class=\"colab-df-container\">\n",
              "      <div>\n",
              "<style scoped>\n",
              "    .dataframe tbody tr th:only-of-type {\n",
              "        vertical-align: middle;\n",
              "    }\n",
              "\n",
              "    .dataframe tbody tr th {\n",
              "        vertical-align: top;\n",
              "    }\n",
              "\n",
              "    .dataframe thead th {\n",
              "        text-align: right;\n",
              "    }\n",
              "</style>\n",
              "<table border=\"1\" class=\"dataframe\">\n",
              "  <thead>\n",
              "    <tr style=\"text-align: right;\">\n",
              "      <th></th>\n",
              "      <th>Game</th>\n",
              "      <th>Genre</th>\n",
              "      <th>Subgenre</th>\n",
              "      <th>Main</th>\n",
              "      <th>1</th>\n",
              "      <th>%</th>\n",
              "      <th>T invertido</th>\n",
              "      <th>t% extra</th>\n",
              "    </tr>\n",
              "  </thead>\n",
              "  <tbody>\n",
              "    <tr>\n",
              "      <th>0</th>\n",
              "      <td>Dr. Mario Miracle Cure</td>\n",
              "      <td>Puzzle</td>\n",
              "      <td>Logic Game</td>\n",
              "      <td>3.0</td>\n",
              "      <td>4.0</td>\n",
              "      <td>100</td>\n",
              "      <td>3.0</td>\n",
              "      <td>33.333333</td>\n",
              "    </tr>\n",
              "    <tr>\n",
              "      <th>1</th>\n",
              "      <td>The Legend of Zelda: Link's Awakening DX</td>\n",
              "      <td>Action-Adventure</td>\n",
              "      <td>Action-Adventure</td>\n",
              "      <td>15.0</td>\n",
              "      <td>18.0</td>\n",
              "      <td>100</td>\n",
              "      <td>15.0</td>\n",
              "      <td>20.000000</td>\n",
              "    </tr>\n",
              "    <tr>\n",
              "      <th>2</th>\n",
              "      <td>Kirby's Dream Land 2</td>\n",
              "      <td>Action</td>\n",
              "      <td>Action-Platformer</td>\n",
              "      <td>3.0</td>\n",
              "      <td>5.0</td>\n",
              "      <td>100</td>\n",
              "      <td>3.0</td>\n",
              "      <td>66.666667</td>\n",
              "    </tr>\n",
              "    <tr>\n",
              "      <th>3</th>\n",
              "      <td>Wario Land II</td>\n",
              "      <td>Platformer</td>\n",
              "      <td>Puzzle</td>\n",
              "      <td>6.0</td>\n",
              "      <td>14.0</td>\n",
              "      <td>100</td>\n",
              "      <td>6.0</td>\n",
              "      <td>133.333333</td>\n",
              "    </tr>\n",
              "    <tr>\n",
              "      <th>4</th>\n",
              "      <td>Rayman 3D</td>\n",
              "      <td>Action</td>\n",
              "      <td>3D Platformer</td>\n",
              "      <td>8.0</td>\n",
              "      <td>13.0</td>\n",
              "      <td>100</td>\n",
              "      <td>8.0</td>\n",
              "      <td>62.500000</td>\n",
              "    </tr>\n",
              "  </tbody>\n",
              "</table>\n",
              "</div>\n",
              "      <button class=\"colab-df-convert\" onclick=\"convertToInteractive('df-7e8f8254-ca46-4800-ba7c-92fb79cd54c6')\"\n",
              "              title=\"Convert this dataframe to an interactive table.\"\n",
              "              style=\"display:none;\">\n",
              "        \n",
              "  <svg xmlns=\"http://www.w3.org/2000/svg\" height=\"24px\"viewBox=\"0 0 24 24\"\n",
              "       width=\"24px\">\n",
              "    <path d=\"M0 0h24v24H0V0z\" fill=\"none\"/>\n",
              "    <path d=\"M18.56 5.44l.94 2.06.94-2.06 2.06-.94-2.06-.94-.94-2.06-.94 2.06-2.06.94zm-11 1L8.5 8.5l.94-2.06 2.06-.94-2.06-.94L8.5 2.5l-.94 2.06-2.06.94zm10 10l.94 2.06.94-2.06 2.06-.94-2.06-.94-.94-2.06-.94 2.06-2.06.94z\"/><path d=\"M17.41 7.96l-1.37-1.37c-.4-.4-.92-.59-1.43-.59-.52 0-1.04.2-1.43.59L10.3 9.45l-7.72 7.72c-.78.78-.78 2.05 0 2.83L4 21.41c.39.39.9.59 1.41.59.51 0 1.02-.2 1.41-.59l7.78-7.78 2.81-2.81c.8-.78.8-2.07 0-2.86zM5.41 20L4 18.59l7.72-7.72 1.47 1.35L5.41 20z\"/>\n",
              "  </svg>\n",
              "      </button>\n",
              "      \n",
              "  <style>\n",
              "    .colab-df-container {\n",
              "      display:flex;\n",
              "      flex-wrap:wrap;\n",
              "      gap: 12px;\n",
              "    }\n",
              "\n",
              "    .colab-df-convert {\n",
              "      background-color: #E8F0FE;\n",
              "      border: none;\n",
              "      border-radius: 50%;\n",
              "      cursor: pointer;\n",
              "      display: none;\n",
              "      fill: #1967D2;\n",
              "      height: 32px;\n",
              "      padding: 0 0 0 0;\n",
              "      width: 32px;\n",
              "    }\n",
              "\n",
              "    .colab-df-convert:hover {\n",
              "      background-color: #E2EBFA;\n",
              "      box-shadow: 0px 1px 2px rgba(60, 64, 67, 0.3), 0px 1px 3px 1px rgba(60, 64, 67, 0.15);\n",
              "      fill: #174EA6;\n",
              "    }\n",
              "\n",
              "    [theme=dark] .colab-df-convert {\n",
              "      background-color: #3B4455;\n",
              "      fill: #D2E3FC;\n",
              "    }\n",
              "\n",
              "    [theme=dark] .colab-df-convert:hover {\n",
              "      background-color: #434B5C;\n",
              "      box-shadow: 0px 1px 3px 1px rgba(0, 0, 0, 0.15);\n",
              "      filter: drop-shadow(0px 1px 2px rgba(0, 0, 0, 0.3));\n",
              "      fill: #FFFFFF;\n",
              "    }\n",
              "  </style>\n",
              "\n",
              "      <script>\n",
              "        const buttonEl =\n",
              "          document.querySelector('#df-7e8f8254-ca46-4800-ba7c-92fb79cd54c6 button.colab-df-convert');\n",
              "        buttonEl.style.display =\n",
              "          google.colab.kernel.accessAllowed ? 'block' : 'none';\n",
              "\n",
              "        async function convertToInteractive(key) {\n",
              "          const element = document.querySelector('#df-7e8f8254-ca46-4800-ba7c-92fb79cd54c6');\n",
              "          const dataTable =\n",
              "            await google.colab.kernel.invokeFunction('convertToInteractive',\n",
              "                                                     [key], {});\n",
              "          if (!dataTable) return;\n",
              "\n",
              "          const docLinkHtml = 'Like what you see? Visit the ' +\n",
              "            '<a target=\"_blank\" href=https://colab.research.google.com/notebooks/data_table.ipynb>data table notebook</a>'\n",
              "            + ' to learn more about interactive tables.';\n",
              "          element.innerHTML = '';\n",
              "          dataTable['output_type'] = 'display_data';\n",
              "          await google.colab.output.renderOutput(dataTable, element);\n",
              "          const docLink = document.createElement('div');\n",
              "          docLink.innerHTML = docLinkHtml;\n",
              "          element.appendChild(docLink);\n",
              "        }\n",
              "      </script>\n",
              "    </div>\n",
              "  </div>\n",
              "  "
            ]
          },
          "metadata": {},
          "execution_count": 840
        }
      ]
    },
    {
      "cell_type": "code",
      "source": [
        "juegos_jugados = avance[\"Game\"]\n",
        "juegos_jugados = juegos_jugados.tolist()\n",
        "juegos_jugados"
      ],
      "metadata": {
        "id": "T4GZNEuXyrbY"
      },
      "execution_count": null,
      "outputs": []
    },
    {
      "cell_type": "code",
      "source": [
        "len(juegos_jugados)"
      ],
      "metadata": {
        "colab": {
          "base_uri": "https://localhost:8080/"
        },
        "id": "HhuncvhvOBN_",
        "outputId": "fb29a75f-cfc1-4b1d-d144-9352d45230b8"
      },
      "execution_count": null,
      "outputs": [
        {
          "output_type": "execute_result",
          "data": {
            "text/plain": [
              "147"
            ]
          },
          "metadata": {},
          "execution_count": 842
        }
      ]
    },
    {
      "cell_type": "code",
      "source": [
        "generos_contados =  avance['Genre'].value_counts()\n",
        "generos_contados"
      ],
      "metadata": {
        "colab": {
          "base_uri": "https://localhost:8080/"
        },
        "id": "uIDc2ERlolMt",
        "outputId": "d4b32660-6605-49f0-84bb-c0dd0efb9223"
      },
      "execution_count": null,
      "outputs": [
        {
          "output_type": "execute_result",
          "data": {
            "text/plain": [
              "Puzzle               36\n",
              "Action-Adventure     30\n",
              "Action               29\n",
              "Role-Playing Game    21\n",
              "Adventure            10\n",
              "Platformer            6\n",
              "Idle                  3\n",
              "Roguelike             3\n",
              "Shooter               3\n",
              "Sport Game            2\n",
              "Arcade                1\n",
              "Simulation            1\n",
              "Strategy              1\n",
              "Various               1\n",
              "Name: Genre, dtype: int64"
            ]
          },
          "metadata": {},
          "execution_count": 843
        }
      ]
    },
    {
      "cell_type": "code",
      "source": [
        "frec_generos = generos_contados.plot.bar()\n",
        "plt.xlabel(\"Géneros\")\n",
        "plt.ylabel(\"Juegos jugados\")\n",
        "plt.title(\"Cantidad de juegos jugados por cada categoría\")\n",
        "plt.show()"
      ],
      "metadata": {
        "id": "sRzFtFi8pFb1",
        "colab": {
          "base_uri": "https://localhost:8080/",
          "height": 589
        },
        "outputId": "db3fc755-e976-4577-809c-971ed9150823"
      },
      "execution_count": null,
      "outputs": [
        {
          "output_type": "display_data",
          "data": {
            "text/plain": [
              "<Figure size 640x480 with 1 Axes>"
            ],
            "image/png": "[encoded data removed]"
          },
          "metadata": {}
        }
      ]
    },
    {
      "cell_type": "markdown",
      "source": [
        "**Promedio de porcentaje logrado para cada género**"
      ],
      "metadata": {
        "id": "-1uwCXfcHK-9"
      }
    },
    {
      "cell_type": "code",
      "source": [
        "generos = avance[\"Genre\"].unique()\n",
        "generos = generos.tolist()\n",
        "generos"
      ],
      "metadata": {
        "colab": {
          "base_uri": "https://localhost:8080/"
        },
        "id": "3wxjUH6Qxr89",
        "outputId": "65e0a2c8-2007-450f-9f89-50d71398d561"
      },
      "execution_count": null,
      "outputs": [
        {
          "output_type": "execute_result",
          "data": {
            "text/plain": [
              "['Puzzle',\n",
              " 'Action-Adventure',\n",
              " 'Action',\n",
              " 'Platformer',\n",
              " 'Idle',\n",
              " 'Role-Playing Game',\n",
              " 'Adventure',\n",
              " 'Roguelike',\n",
              " 'Arcade',\n",
              " 'Simulation',\n",
              " 'Sport Game',\n",
              " 'Shooter',\n",
              " 'Strategy',\n",
              " 'Various']"
            ]
          },
          "metadata": {},
          "execution_count": 845
        }
      ]
    },
    {
      "cell_type": "code",
      "source": [
        "promedio_puzzle = avance.loc[avance['Genre'] == 'Puzzle', '%'].mean()\n",
        "promedio_puzzle"
      ],
      "metadata": {
        "colab": {
          "base_uri": "https://localhost:8080/"
        },
        "id": "bToyDGmNDi8P",
        "outputId": "1e3e7fac-2a50-4456-f63e-f09ebeadd8c3"
      },
      "execution_count": null,
      "outputs": [
        {
          "output_type": "execute_result",
          "data": {
            "text/plain": [
              "78.58333333333333"
            ]
          },
          "metadata": {},
          "execution_count": 846
        }
      ]
    },
    {
      "cell_type": "code",
      "source": [
        "promedio_act_adv = avance.loc[avance['Genre'] == 'Action-Adventure', '%'].mean()\n",
        "promedio_act_adv"
      ],
      "metadata": {
        "colab": {
          "base_uri": "https://localhost:8080/"
        },
        "id": "UK-1zpXaD3Tj",
        "outputId": "8c2d0fd2-1953-421d-c657-1e5da843f2b5"
      },
      "execution_count": null,
      "outputs": [
        {
          "output_type": "execute_result",
          "data": {
            "text/plain": [
              "66.46666666666667"
            ]
          },
          "metadata": {},
          "execution_count": 847
        }
      ]
    },
    {
      "cell_type": "code",
      "source": [
        "promedio_action = avance.loc[avance['Genre'] == 'Action', '%'].mean()\n",
        "promedio_action"
      ],
      "metadata": {
        "colab": {
          "base_uri": "https://localhost:8080/"
        },
        "id": "VT7oirelD8_f",
        "outputId": "1b5a3782-a5d5-46da-cfd7-7816437cc87c"
      },
      "execution_count": null,
      "outputs": [
        {
          "output_type": "execute_result",
          "data": {
            "text/plain": [
              "58.06896551724138"
            ]
          },
          "metadata": {},
          "execution_count": 848
        }
      ]
    },
    {
      "cell_type": "code",
      "source": [
        "promedio_rpg = avance.loc[avance['Genre'] == 'Role-Playing Game', '%'].mean()\n",
        "promedio_rpg"
      ],
      "metadata": {
        "colab": {
          "base_uri": "https://localhost:8080/"
        },
        "id": "K3GU_7FxGQFX",
        "outputId": "653cd84e-010c-4e48-b639-473929628f96"
      },
      "execution_count": null,
      "outputs": [
        {
          "output_type": "execute_result",
          "data": {
            "text/plain": [
              "41.333333333333336"
            ]
          },
          "metadata": {},
          "execution_count": 849
        }
      ]
    },
    {
      "cell_type": "code",
      "source": [
        "promedio_adv = avance.loc[avance['Genre'] == 'Adventure', '%'].mean()\n",
        "promedio_adv"
      ],
      "metadata": {
        "colab": {
          "base_uri": "https://localhost:8080/"
        },
        "id": "trFG6xqsGVrm",
        "outputId": "26ea681a-c8ba-402f-9779-6436c2713abf"
      },
      "execution_count": null,
      "outputs": [
        {
          "output_type": "execute_result",
          "data": {
            "text/plain": [
              "68.9"
            ]
          },
          "metadata": {},
          "execution_count": 850
        }
      ]
    },
    {
      "cell_type": "code",
      "source": [
        "promedio_plat = avance.loc[avance['Genre'] == 'Platformer', '%'].mean()\n",
        "promedio_plat"
      ],
      "metadata": {
        "colab": {
          "base_uri": "https://localhost:8080/"
        },
        "id": "uR4L30avGb4U",
        "outputId": "c2593ab8-dd2c-4df2-a073-d40bdc0fa24e"
      },
      "execution_count": null,
      "outputs": [
        {
          "output_type": "execute_result",
          "data": {
            "text/plain": [
              "53.833333333333336"
            ]
          },
          "metadata": {},
          "execution_count": 851
        }
      ]
    },
    {
      "cell_type": "code",
      "source": [
        "promedio_idle = avance.loc[avance['Genre'] == 'Idle', '%'].mean()\n",
        "promedio_idle"
      ],
      "metadata": {
        "colab": {
          "base_uri": "https://localhost:8080/"
        },
        "id": "Qo8GhKYkGgcR",
        "outputId": "3a886cab-8ff9-49d3-fa41-d14d784a31de"
      },
      "execution_count": null,
      "outputs": [
        {
          "output_type": "execute_result",
          "data": {
            "text/plain": [
              "67.33333333333333"
            ]
          },
          "metadata": {},
          "execution_count": 852
        }
      ]
    },
    {
      "cell_type": "code",
      "source": [
        "promedio_rogue = avance.loc[avance['Genre'] == 'Roguelike', '%'].mean()\n",
        "promedio_rogue"
      ],
      "metadata": {
        "colab": {
          "base_uri": "https://localhost:8080/"
        },
        "id": "7vmzKY6yGlJ-",
        "outputId": "fd2ae6d2-e820-41cf-8b41-ff92aaa95fd4"
      },
      "execution_count": null,
      "outputs": [
        {
          "output_type": "execute_result",
          "data": {
            "text/plain": [
              "62.0"
            ]
          },
          "metadata": {},
          "execution_count": 853
        }
      ]
    },
    {
      "cell_type": "code",
      "source": [
        "promedio_shooter = avance.loc[avance['Genre'] == 'Shooter', '%'].mean()\n",
        "promedio_shooter"
      ],
      "metadata": {
        "colab": {
          "base_uri": "https://localhost:8080/"
        },
        "id": "OaMEqZO0GoVu",
        "outputId": "e80a35a3-97ed-4444-f8a0-6de44c98e8f5"
      },
      "execution_count": null,
      "outputs": [
        {
          "output_type": "execute_result",
          "data": {
            "text/plain": [
              "12.333333333333334"
            ]
          },
          "metadata": {},
          "execution_count": 854
        }
      ]
    },
    {
      "cell_type": "code",
      "source": [
        "promedio_sport = avance.loc[avance['Genre'] == 'Sport Game', '%'].mean()\n",
        "promedio_sport"
      ],
      "metadata": {
        "colab": {
          "base_uri": "https://localhost:8080/"
        },
        "id": "NR9dYWAHGuai",
        "outputId": "077a1279-feb0-47d6-88b1-d3e8008bfc81"
      },
      "execution_count": null,
      "outputs": [
        {
          "output_type": "execute_result",
          "data": {
            "text/plain": [
              "28.0"
            ]
          },
          "metadata": {},
          "execution_count": 855
        }
      ]
    },
    {
      "cell_type": "code",
      "source": [
        "promedio_arc = avance.loc[avance['Genre'] == 'Arcade', '%'].mean()\n",
        "promedio_arc"
      ],
      "metadata": {
        "colab": {
          "base_uri": "https://localhost:8080/"
        },
        "id": "Sdgl6N4RG0H5",
        "outputId": "43ab859e-23cc-4ab2-8d06-046c2a7411c4"
      },
      "execution_count": null,
      "outputs": [
        {
          "output_type": "execute_result",
          "data": {
            "text/plain": [
              "95.0"
            ]
          },
          "metadata": {},
          "execution_count": 856
        }
      ]
    },
    {
      "cell_type": "code",
      "source": [
        "promedio_sim = avance.loc[avance['Genre'] == 'Simulation', '%'].mean()\n",
        "promedio_sim"
      ],
      "metadata": {
        "colab": {
          "base_uri": "https://localhost:8080/"
        },
        "id": "DEf6iuFMG2_r",
        "outputId": "274cd474-6f33-46b5-9ed9-2e8935f0c42e"
      },
      "execution_count": null,
      "outputs": [
        {
          "output_type": "execute_result",
          "data": {
            "text/plain": [
              "90.0"
            ]
          },
          "metadata": {},
          "execution_count": 857
        }
      ]
    },
    {
      "cell_type": "code",
      "source": [
        "promedio_strat = avance.loc[avance['Genre'] == 'Strategy', '%'].mean()\n",
        "promedio_strat"
      ],
      "metadata": {
        "colab": {
          "base_uri": "https://localhost:8080/"
        },
        "id": "ZzflAd6lG9o4",
        "outputId": "dc86c427-7a25-4480-b5c9-8215e82be25d"
      },
      "execution_count": null,
      "outputs": [
        {
          "output_type": "execute_result",
          "data": {
            "text/plain": [
              "14.0"
            ]
          },
          "metadata": {},
          "execution_count": 858
        }
      ]
    },
    {
      "cell_type": "code",
      "source": [
        "promedio_var = avance.loc[avance['Genre'] == 'Various', '%'].mean()\n",
        "promedio_var"
      ],
      "metadata": {
        "colab": {
          "base_uri": "https://localhost:8080/"
        },
        "id": "6GbyMhWVIJTi",
        "outputId": "0e082056-2f3c-481a-9749-4f67af7a9e7d"
      },
      "execution_count": null,
      "outputs": [
        {
          "output_type": "execute_result",
          "data": {
            "text/plain": [
              "8.0"
            ]
          },
          "metadata": {},
          "execution_count": 859
        }
      ]
    },
    {
      "cell_type": "markdown",
      "source": [
        "**Promedio de tiempo invertido para cada género**"
      ],
      "metadata": {
        "id": "ft622RzVHVrU"
      }
    },
    {
      "cell_type": "code",
      "source": [
        "tiempo_promedio =  avance['T invertido'].mean()\n",
        "tiempo_promedio"
      ],
      "metadata": {
        "colab": {
          "base_uri": "https://localhost:8080/"
        },
        "id": "8dqByYjsniT-",
        "outputId": "2ffeb859-134c-4513-9608-17d5eb281d30"
      },
      "execution_count": null,
      "outputs": [
        {
          "output_type": "execute_result",
          "data": {
            "text/plain": [
              "5.8019424460431654"
            ]
          },
          "metadata": {},
          "execution_count": 860
        }
      ]
    },
    {
      "cell_type": "code",
      "source": [
        "tiempoinv_puzzle = avance.loc[avance['Genre'] == 'Puzzle', 'T invertido'].mean()\n",
        "tiempoinv_puzzle"
      ],
      "metadata": {
        "colab": {
          "base_uri": "https://localhost:8080/"
        },
        "id": "JPY9AK7IEEXu",
        "outputId": "61f0f952-6b30-4a3a-9fdf-fb090705fd09"
      },
      "execution_count": null,
      "outputs": [
        {
          "output_type": "execute_result",
          "data": {
            "text/plain": [
              "5.4539285714285715"
            ]
          },
          "metadata": {},
          "execution_count": 861
        }
      ]
    },
    {
      "cell_type": "code",
      "source": [
        "tiempoinv_act_adv = avance.loc[avance['Genre'] == 'Action-Adventure', 'T invertido'].mean()\n",
        "tiempoinv_act_adv"
      ],
      "metadata": {
        "colab": {
          "base_uri": "https://localhost:8080/"
        },
        "id": "YJbmluzSENv2",
        "outputId": "ba8f50a3-c3aa-45f5-fd2e-769b44f07928"
      },
      "execution_count": null,
      "outputs": [
        {
          "output_type": "execute_result",
          "data": {
            "text/plain": [
              "5.447666666666666"
            ]
          },
          "metadata": {},
          "execution_count": 862
        }
      ]
    },
    {
      "cell_type": "code",
      "source": [
        "tiempoinv_action = avance.loc[avance['Genre'] == 'Action', 'T invertido'].mean()\n",
        "tiempoinv_action"
      ],
      "metadata": {
        "colab": {
          "base_uri": "https://localhost:8080/"
        },
        "id": "PAz4fu-UEV0y",
        "outputId": "102fc0b6-84e5-4336-ac89-69ff940b3a78"
      },
      "execution_count": null,
      "outputs": [
        {
          "output_type": "execute_result",
          "data": {
            "text/plain": [
              "6.145862068965517"
            ]
          },
          "metadata": {},
          "execution_count": 863
        }
      ]
    },
    {
      "cell_type": "code",
      "source": [
        "tiempoinv_rpg = avance.loc[avance['Genre'] == 'Role-Playing Game', 'T invertido'].mean()\n",
        "tiempoinv_rpg"
      ],
      "metadata": {
        "id": "N1xKiUK1HncE",
        "colab": {
          "base_uri": "https://localhost:8080/"
        },
        "outputId": "be78590f-b45c-4acb-9288-71e86fa2c954"
      },
      "execution_count": null,
      "outputs": [
        {
          "output_type": "execute_result",
          "data": {
            "text/plain": [
              "9.540476190476191"
            ]
          },
          "metadata": {},
          "execution_count": 864
        }
      ]
    },
    {
      "cell_type": "code",
      "source": [
        "tiempoinv_adv = avance.loc[avance['Genre'] == 'Adventure', 'T invertido'].mean()\n",
        "tiempoinv_adv"
      ],
      "metadata": {
        "colab": {
          "base_uri": "https://localhost:8080/"
        },
        "id": "1LH1gQCtHdsE",
        "outputId": "321201fc-efd8-427d-dd83-15b87e520136"
      },
      "execution_count": null,
      "outputs": [
        {
          "output_type": "execute_result",
          "data": {
            "text/plain": [
              "2.459"
            ]
          },
          "metadata": {},
          "execution_count": 865
        }
      ]
    },
    {
      "cell_type": "code",
      "source": [
        "tiempoinv_plat = avance.loc[avance['Genre'] == 'Platformer', 'T invertido'].mean()\n",
        "tiempoinv_plat"
      ],
      "metadata": {
        "colab": {
          "base_uri": "https://localhost:8080/"
        },
        "id": "uZgF5LG7H3ET",
        "outputId": "629cf33e-abb9-4a82-c420-9535d7da00f4"
      },
      "execution_count": null,
      "outputs": [
        {
          "output_type": "execute_result",
          "data": {
            "text/plain": [
              "4.0183333333333335"
            ]
          },
          "metadata": {},
          "execution_count": 866
        }
      ]
    },
    {
      "cell_type": "code",
      "source": [
        "tiempoinv_idle = avance.loc[avance['Genre'] == 'Idle', 'T invertido'].mean()\n",
        "tiempoinv_idle"
      ],
      "metadata": {
        "colab": {
          "base_uri": "https://localhost:8080/"
        },
        "id": "87IONslmH9gU",
        "outputId": "502f3f4c-2015-44ce-8df2-2aaf6a094161"
      },
      "execution_count": null,
      "outputs": [
        {
          "output_type": "execute_result",
          "data": {
            "text/plain": [
              "8.073333333333332"
            ]
          },
          "metadata": {},
          "execution_count": 867
        }
      ]
    },
    {
      "cell_type": "code",
      "source": [
        "tiempoinv_rogue = avance.loc[avance['Genre'] == 'Roguelike', 'T invertido'].mean()\n",
        "tiempoinv_rogue"
      ],
      "metadata": {
        "colab": {
          "base_uri": "https://localhost:8080/"
        },
        "id": "ySrJFSLuIT0X",
        "outputId": "cc99e20e-7ddc-4251-dc87-6b198f10c5f8"
      },
      "execution_count": null,
      "outputs": [
        {
          "output_type": "execute_result",
          "data": {
            "text/plain": [
              "7.806666666666666"
            ]
          },
          "metadata": {},
          "execution_count": 868
        }
      ]
    },
    {
      "cell_type": "code",
      "source": [
        "tiempoinv_shooter = avance.loc[avance['Genre'] == 'Shooter', 'T invertido'].mean()\n",
        "tiempoinv_shooter"
      ],
      "metadata": {
        "colab": {
          "base_uri": "https://localhost:8080/"
        },
        "id": "TUxzWB4eIVL3",
        "outputId": "1d8d79ce-04dc-4036-bb4d-ecb628472749"
      },
      "execution_count": null,
      "outputs": [
        {
          "output_type": "execute_result",
          "data": {
            "text/plain": [
              "0.63"
            ]
          },
          "metadata": {},
          "execution_count": 869
        }
      ]
    },
    {
      "cell_type": "code",
      "source": [
        "tiempoinv_sport = avance.loc[avance['Genre'] == 'Sport Game', 'T invertido'].mean()\n",
        "tiempoinv_sport"
      ],
      "metadata": {
        "colab": {
          "base_uri": "https://localhost:8080/"
        },
        "id": "I2dJw_5sIe6Q",
        "outputId": "b2546a78-646e-418f-a463-76e7f32fb415"
      },
      "execution_count": null,
      "outputs": [
        {
          "output_type": "execute_result",
          "data": {
            "text/plain": [
              "1.745"
            ]
          },
          "metadata": {},
          "execution_count": 870
        }
      ]
    },
    {
      "cell_type": "code",
      "source": [
        "tiempoinv_arc = avance.loc[avance['Genre'] == 'Arcade', 'T invertido'].mean()\n",
        "tiempoinv_arc"
      ],
      "metadata": {
        "colab": {
          "base_uri": "https://localhost:8080/"
        },
        "id": "-uicfPoWIjgo",
        "outputId": "345b2d43-4885-4206-9a59-ef1d9743b99d"
      },
      "execution_count": null,
      "outputs": [
        {
          "output_type": "execute_result",
          "data": {
            "text/plain": [
              "0.95"
            ]
          },
          "metadata": {},
          "execution_count": 871
        }
      ]
    },
    {
      "cell_type": "code",
      "source": [
        "tiempoinv_sim = avance.loc[avance['Genre'] == 'Simulation', 'T invertido'].mean()\n",
        "tiempoinv_sim"
      ],
      "metadata": {
        "colab": {
          "base_uri": "https://localhost:8080/"
        },
        "id": "5Ybj-ozcInIm",
        "outputId": "9028b83d-46b6-4fd2-cb24-0d06a29c9b63"
      },
      "execution_count": null,
      "outputs": [
        {
          "output_type": "execute_result",
          "data": {
            "text/plain": [
              "7.2"
            ]
          },
          "metadata": {},
          "execution_count": 872
        }
      ]
    },
    {
      "cell_type": "code",
      "source": [
        "tiempoinv_strat = avance.loc[avance['Genre'] == 'Strategy', 'T invertido'].mean()\n",
        "tiempoinv_strat"
      ],
      "metadata": {
        "colab": {
          "base_uri": "https://localhost:8080/"
        },
        "id": "oFQDCHE-ItGV",
        "outputId": "818ee85d-5c04-4566-b329-26780b2cca2f"
      },
      "execution_count": null,
      "outputs": [
        {
          "output_type": "execute_result",
          "data": {
            "text/plain": [
              "1.4000000000000001"
            ]
          },
          "metadata": {},
          "execution_count": 873
        }
      ]
    },
    {
      "cell_type": "code",
      "source": [
        "tiempoinv_var = avance.loc[avance['Genre'] == 'Various', 'T invertido'].mean()\n",
        "tiempoinv_var"
      ],
      "metadata": {
        "colab": {
          "base_uri": "https://localhost:8080/"
        },
        "id": "NcZiiM_BIxj3",
        "outputId": "7378e696-26b4-4335-c4ae-fcdf989553b6"
      },
      "execution_count": null,
      "outputs": [
        {
          "output_type": "execute_result",
          "data": {
            "text/plain": [
              "0.48"
            ]
          },
          "metadata": {},
          "execution_count": 874
        }
      ]
    },
    {
      "cell_type": "markdown",
      "source": [
        "**Gráficas y diagramas para análisis**"
      ],
      "metadata": {
        "id": "WhHojN9zLe2v"
      }
    },
    {
      "cell_type": "code",
      "source": [
        "porcentaje_avance = [promedio_puzzle, promedio_act_adv, promedio_action, promedio_plat, promedio_idle, promedio_rpg,\n",
        "                     promedio_adv, promedio_rogue, promedio_arc, promedio_sim, promedio_sport, promedio_shooter,\n",
        "                     promedio_strat, promedio_var]\n",
        "porcentaje_avance"
      ],
      "metadata": {
        "colab": {
          "base_uri": "https://localhost:8080/"
        },
        "id": "AzzMwQWWE7lu",
        "outputId": "83d797b6-ce5c-4884-ed61-76060fbfe2e8"
      },
      "execution_count": null,
      "outputs": [
        {
          "output_type": "execute_result",
          "data": {
            "text/plain": [
              "[78.58333333333333,\n",
              " 66.46666666666667,\n",
              " 58.06896551724138,\n",
              " 53.833333333333336,\n",
              " 67.33333333333333,\n",
              " 41.333333333333336,\n",
              " 68.9,\n",
              " 62.0,\n",
              " 95.0,\n",
              " 90.0,\n",
              " 28.0,\n",
              " 12.333333333333334,\n",
              " 14.0,\n",
              " 8.0]"
            ]
          },
          "metadata": {},
          "execution_count": 875
        }
      ]
    },
    {
      "cell_type": "code",
      "source": [
        "colores = [\"red\", \"blue\", \"green\", \"yellow\", \"purple\", \"black\", \"orange\", \"brown\", \"gray\", \"gold\",\n",
        "           \"turquoise\", \"pink\", \"magenta\", \"teal\"]\n",
        "\n",
        "plt.bar(generos, porcentaje_avance, color=colores)\n",
        "\n",
        "plt.xlabel('Géneros')\n",
        "plt.ylabel('Porcentaje de avance')\n",
        "\n",
        "plt.title('Porcentaje de avance promedio en cada género')\n",
        "plt.xticks(rotation=90)\n",
        "plt.ylim([0, 100])\n",
        "plt.tick_params(axis='x', labelsize=8)\n",
        "plt.show()\n"
      ],
      "metadata": {
        "colab": {
          "base_uri": "https://localhost:8080/",
          "height": 564
        },
        "id": "dORjk_FfOKLX",
        "outputId": "b804e5a5-3742-4939-c6dd-d4ba3e3edc4f"
      },
      "execution_count": null,
      "outputs": [
        {
          "output_type": "display_data",
          "data": {
            "text/plain": [
              "<Figure size 640x480 with 1 Axes>"
            ],
            "image/png": "[encoded data removed]"
          },
          "metadata": {}
        }
      ]
    },
    {
      "cell_type": "markdown",
      "source": [
        "Si bien las categorías con mayor porcentaje de avance son arcade y simulation, estas no se considerarán para las recomendaciones, puesto que el usuario solamente ha jugado 1 juego de cada categoría, lo cual es muy poco tomando en consideración que ha jugado un total de 147, es decir, solamente un 1.36%. En otras palabras, esto sugiere que este tipo de juegos no son de sus favoritos.\n",
        "Por ello, pasamos al tercer lugar, que sería puzzles con un 78.58%. En cuarto, con 68.9% se encuentra Adveture, sin embargo, de este también se ha jugado relativamente, por lo que no se considerará para la recomendación final (solo 10 juegos). En quinto, aparece Idle con 67.33%, no obstante, tampoco se cosiderará porque solamente se han jugado 3 de esta categoría. En sexto y séptimo lugar se encuentran Action-Adventure y Action con un 66.46% y 58.06%, respectivamente. Al tener un porcentaje relativamente alto y estar dentro del top 3 de categorías más jugadas, serán estos junto con puzzle las que se considerarán para la recomendación.\n",
        "\n",
        "\n",
        "\n"
      ],
      "metadata": {
        "id": "Rwt2SML4QgFt"
      }
    },
    {
      "cell_type": "code",
      "source": [
        "tiempoinv = [tiempoinv_puzzle, tiempoinv_act_adv, tiempoinv_action, tiempoinv_plat, tiempoinv_idle,\n",
        "             tiempoinv_rpg, tiempoinv_adv, tiempoinv_rogue, tiempoinv_arc, tiempoinv_sim,\n",
        "             tiempoinv_sport, tiempoinv_shooter, tiempoinv_strat, tiempoinv_var]\n",
        "tiempoinv"
      ],
      "metadata": {
        "colab": {
          "base_uri": "https://localhost:8080/"
        },
        "id": "pmJlHlTnFKMK",
        "outputId": "c5872e93-0f2a-42a6-ddc2-091ba1e5af04"
      },
      "execution_count": null,
      "outputs": [
        {
          "output_type": "execute_result",
          "data": {
            "text/plain": [
              "[5.4539285714285715,\n",
              " 5.447666666666666,\n",
              " 6.145862068965517,\n",
              " 4.0183333333333335,\n",
              " 8.073333333333332,\n",
              " 9.540476190476191,\n",
              " 2.459,\n",
              " 7.806666666666666,\n",
              " 0.95,\n",
              " 7.2,\n",
              " 1.745,\n",
              " 0.63,\n",
              " 1.4000000000000001,\n",
              " 0.48]"
            ]
          },
          "metadata": {},
          "execution_count": 877
        }
      ]
    },
    {
      "cell_type": "code",
      "source": [
        "plt.bar(generos, tiempoinv, color=colores)\n",
        "\n",
        "plt.xlabel(\"Géneros\")\n",
        "plt.ylabel(\"Tiempo invertido (horas)\")\n",
        "\n",
        "plt.title(\"Promedio de tiempo invertido en horas en cada género\")\n",
        "plt.xticks(rotation=90)\n",
        "plt.tick_params(axis='x', labelsize=8)\n",
        "plt.show()"
      ],
      "metadata": {
        "colab": {
          "base_uri": "https://localhost:8080/",
          "height": 564
        },
        "id": "cIFRcuogQFod",
        "outputId": "6d39b044-6249-49e0-a6d7-459a77a2bb11"
      },
      "execution_count": null,
      "outputs": [
        {
          "output_type": "display_data",
          "data": {
            "text/plain": [
              "<Figure size 640x480 with 1 Axes>"
            ],
            "image/png": "[encoded data removed]"
          },
          "metadata": {}
        }
      ]
    },
    {
      "cell_type": "code",
      "source": [
        "tiempo_promedio-(tiempoinv_puzzle)"
      ],
      "metadata": {
        "colab": {
          "base_uri": "https://localhost:8080/"
        },
        "id": "yTGIQaT7X49Z",
        "outputId": "4c04cd72-a080-4089-84c9-b7af6bdffc42"
      },
      "execution_count": null,
      "outputs": [
        {
          "output_type": "execute_result",
          "data": {
            "text/plain": [
              "0.348013874614594"
            ]
          },
          "metadata": {},
          "execution_count": 879
        }
      ]
    },
    {
      "cell_type": "code",
      "source": [
        "tiempo_promedio-(tiempoinv_act_adv)"
      ],
      "metadata": {
        "colab": {
          "base_uri": "https://localhost:8080/"
        },
        "id": "Q5RP1flLYgZK",
        "outputId": "bd3020e3-c79e-4e1e-f074-ecc7ec406166"
      },
      "execution_count": null,
      "outputs": [
        {
          "output_type": "execute_result",
          "data": {
            "text/plain": [
              "0.3542757793764997"
            ]
          },
          "metadata": {},
          "execution_count": 880
        }
      ]
    },
    {
      "cell_type": "code",
      "source": [
        "tiempo_promedio-(tiempoinv_action)"
      ],
      "metadata": {
        "colab": {
          "base_uri": "https://localhost:8080/"
        },
        "id": "_AS_ZfwEYjKI",
        "outputId": "8ed948be-c104-4355-ac42-306b8cf51776"
      },
      "execution_count": null,
      "outputs": [
        {
          "output_type": "execute_result",
          "data": {
            "text/plain": [
              "-0.34391962292235156"
            ]
          },
          "metadata": {},
          "execution_count": 881
        }
      ]
    },
    {
      "cell_type": "markdown",
      "source": [
        "Para la gráfica anterior, se consideraron los géneros más cercanos al tiempo de horas promedio que el usuario juga, con el fin de que siga jugando aproximadamente el mismo tiempo.\n",
        "En este caso, el tiempo promedio fue de 5.8 horas. Observando la gráfica y los valores calculados previamente, nos percatamos de que los tres géneros más cercanos a la media son el de puzzle, action-adventure y action, por lo que me continuaré enfocando en estos géneros. Cabe mencionar que si bien el de action se encuentra más cerca del promedio que el de puzzle por milésimas, me inclinaré hacia puzzle debido a tener mayor cantidad de juegos jugados y que su promedio de tiempo invertido se encuentre por debajo al promedio general y no por encima, ya que de esta manera, la persona no invertirá más del tiempo que debería."
      ],
      "metadata": {
        "id": "MSz93LnaX739"
      }
    },
    {
      "cell_type": "code",
      "source": [
        "plt.scatter( porcentaje_avance, tiempoinv, color=colores)\n",
        "\n",
        "plt.xlabel('Promedio de porcentaje de avance logrado (%)')\n",
        "plt.ylabel('Promedio de tiempo invertido (horas)')\n",
        "\n",
        "plt.title('Tiempo invertido vs porcentaje de avance')\n",
        "plt.legend(generos)\n",
        "plt.show()"
      ],
      "metadata": {
        "colab": {
          "base_uri": "https://localhost:8080/",
          "height": 472
        },
        "id": "4CKVQpCmFcDc",
        "outputId": "57e61d13-9e97-42ef-8ea9-41237db6d5ea"
      },
      "execution_count": null,
      "outputs": [
        {
          "output_type": "display_data",
          "data": {
            "text/plain": [
              "<Figure size 640x480 with 1 Axes>"
            ],
            "image/png": "[encoded data removed]"
          },
          "metadata": {}
        }
      ]
    },
    {
      "cell_type": "markdown",
      "source": [
        "A partir del diagrama de dispersión anterior, es posible notar que puzzle se encuentra en un porcentaje relativamente alto de avance (arriba de 75%) en un tiempo promedio, por lo que proponer más de estos juegos sería ideal. A diferencia de otros en donde se invirtió poco tiempo y solo se logró un bajo avance, sugiere que no son completamente del agrado o gusto del usuario.\n",
        "Sumado a ello, también hay puntos con un menor porcentaje de avance y con una cantidad de horas elevadas (por encima de la media de 5.8 horas). Si bien esto sugiere que le llaman la atención a la persona, el tiempo no es tan similar como con puzzle, sería más viable recomendarle juegos en donde siga invirtiendo aproximadamente lo mismo. Ahí es donde entran los puntos verde y azul, es decir, action y action-adventure, respectivamente, pues estas se encuentran más cercanas a puzzles tanto como en avance como en horas."
      ],
      "metadata": {
        "id": "5civpuk3Q7yg"
      }
    },
    {
      "cell_type": "markdown",
      "source": [
        "**Pasando al archivo .txt**"
      ],
      "metadata": {
        "id": "oPEN00jLkz3k"
      }
    },
    {
      "cell_type": "code",
      "source": [
        "with open(\"games.txt\", \"r\") as games:\n",
        "    lineas = games.readlines()"
      ],
      "metadata": {
        "id": "cy0eCERVFXu_"
      },
      "execution_count": null,
      "outputs": []
    },
    {
      "cell_type": "code",
      "source": [
        "juegos_totales=[]\n",
        "\n",
        "for linea in lineas:\n",
        "  juegos_totales.append(linea)"
      ],
      "metadata": {
        "id": "jTXQTiAjGUe_"
      },
      "execution_count": null,
      "outputs": []
    },
    {
      "cell_type": "code",
      "source": [
        "juegos_totales"
      ],
      "metadata": {
        "id": "fAwaKSv0zCkO",
        "colab": {
          "base_uri": "https://localhost:8080/"
        },
        "outputId": "f001f544-d7ac-4cd9-c3dd-3e82ff4de4b2"
      },
      "execution_count": null,
      "outputs": [
        {
          "output_type": "execute_result",
          "data": {
            "text/plain": [
              "['2048\\n',\n",
              " '1000 Amps\\n',\n",
              " '3D Retro Dungeon Challenge\\n',\n",
              " '3Souls\\n',\n",
              " '40 Winks\\n',\n",
              " 'Ace Attorney Apollo Justice\\n',\n",
              " 'Ace Attorney Dual Destinies\\n',\n",
              " 'Ace Attorney Spirit of Justice\\n',\n",
              " 'Advance Wars\\n',\n",
              " 'Advance Wars 2\\n',\n",
              " 'Advance Wars 2: Black Hole Rising\\n',\n",
              " 'Advance Wars: Dual Strike\\n',\n",
              " 'Affordable Space Adventure\\n',\n",
              " 'Afterparty\\n',\n",
              " 'Aggelos\\n',\n",
              " 'Alex Kidd in the Enchanted Castle\\n',\n",
              " 'Alex Kidd in the Miracle World XD\\n',\n",
              " 'Alien Soldier\\n',\n",
              " 'Alien Storm\\n',\n",
              " 'Altered Beast\\n',\n",
              " \"Alwa's Awakening\\n\",\n",
              " 'Among Us\\n',\n",
              " 'Antichamber\\n',\n",
              " 'Aquatic Adventure of the Last Human\\n',\n",
              " 'Armillo\\n',\n",
              " \"Assassin's Creed II\\n\",\n",
              " 'Attractio\\n',\n",
              " 'Awesomenauts\\n',\n",
              " 'Axiom Verge\\n',\n",
              " 'Aztaka\\n',\n",
              " 'Baba is You\\n',\n",
              " 'Banjo Tooie\\n',\n",
              " 'Banjo-Kazooie\\n',\n",
              " 'Bastion\\n',\n",
              " 'Batman: Arkham Asylum GOTY\\n',\n",
              " 'Batman: Arkham City GOTY\\n',\n",
              " 'BattleBlock Theater\\n',\n",
              " 'Beyond Blue\\n',\n",
              " 'Beyond Good & Evil\\n',\n",
              " 'Beyond Oasis\\n',\n",
              " 'Binding of Isaac: Rebirth\\n',\n",
              " 'Bio-Hazard Battle\\n',\n",
              " 'BioShock\\n',\n",
              " 'BioShock 2\\n',\n",
              " 'BioShock 2 Remastered\\n',\n",
              " 'BioShock Infinite\\n',\n",
              " 'BioShock Remastered\\n',\n",
              " 'Biped\\n',\n",
              " 'Blasphemous\\n',\n",
              " 'Block-a-Pix Color\\n',\n",
              " 'Bloodstained: Curse of the Moon\\n',\n",
              " 'Bloodstained: Ritual of the Night\\n',\n",
              " 'Blossom Tales: The Sleeping King\\n',\n",
              " 'Bonanza Bros\\n',\n",
              " 'Box Box Boy!\\n',\n",
              " 'Box Boy!\\n',\n",
              " 'Braid\\n',\n",
              " 'Brothers - A Tale of Two Sons\\n',\n",
              " 'Brütal Legend\\n',\n",
              " 'Bubble Bobble\\n',\n",
              " 'Buck Bumble\\n',\n",
              " 'Bye-Bye Box Boy!\\n',\n",
              " 'Call of Duty 4: Modern Warfare\\n',\n",
              " 'Capsized\\n',\n",
              " 'Captain Toad Treasure Tracker\\n',\n",
              " 'CARRION\\n',\n",
              " 'Cassette Beasts\\n',\n",
              " 'Castle Crashers\\n',\n",
              " 'Castle in the Darkness\\n',\n",
              " 'Castlevania\\n',\n",
              " 'Castlevania Advance Collection\\n',\n",
              " 'Castlevania Anniversary Collection\\n',\n",
              " 'Castlevania Dracula X\\n',\n",
              " \"Castlevania II: Simon's Quest\\n\",\n",
              " \"Castlevania III: Dracula's Curse\\n\",\n",
              " 'Castlevania: Aria of Sorrow\\n',\n",
              " 'Castlevania: Circle of the Moon\\n',\n",
              " 'Castlevania: Harmony of Dissonance\\n',\n",
              " 'Cave Story+\\n',\n",
              " 'Celeste\\n',\n",
              " 'Chameleon Twist\\n',\n",
              " 'Chameleon Twist 2\\n',\n",
              " 'Chasm\\n',\n",
              " 'Child of Light\\n',\n",
              " \"Chip's Challenge 1\\n\",\n",
              " \"Chip's Challenge 2\\n\",\n",
              " 'Chrono Trigger\\n',\n",
              " 'Classic Games Overload: Card & Puzzle Edition\\n',\n",
              " 'Coloring Pixels\\n',\n",
              " 'Columns\\n',\n",
              " 'Columns III: Revenge of Columns\\n',\n",
              " 'Comix Zone\\n',\n",
              " \"Conker's Bad Fur Day\\n\",\n",
              " 'Contagion\\n',\n",
              " 'Contra 4\\n',\n",
              " 'Contra Anniversary Collection\\n',\n",
              " 'Coromon\\n',\n",
              " 'Crack Down\\n',\n",
              " 'Crash Bandicoot N. Sane Trilogy\\n',\n",
              " 'Crimson Room: Decade\\n',\n",
              " 'Crypt of the NecroDancer\\n',\n",
              " 'Cube Escape Collection\\n',\n",
              " 'Cuphead\\n',\n",
              " 'Cyberpunk 2077\\n',\n",
              " 'Dark Souls II: Scholar of the First Sin\\n',\n",
              " 'Dark Souls III\\n',\n",
              " 'Dark Souls: Prepare to Die Edition\\n',\n",
              " 'Dark Souls: Remastered\\n',\n",
              " 'Day of the Tentacle Remastered\\n',\n",
              " 'Dead by Death\\n',\n",
              " 'Dead Cells\\n',\n",
              " 'Dead Space\\n',\n",
              " 'Deadly Tower of Monsters\\n',\n",
              " \"Death's Gambit\\n\",\n",
              " 'Decap Attack\\n',\n",
              " 'Deiland\\n',\n",
              " 'Delver\\n',\n",
              " 'Deus Ex: Game of the Year Edition\\n',\n",
              " 'Diddy Kong Racing\\n',\n",
              " 'Disco Elysium\\n',\n",
              " 'Disney Classic Games: Aladdin and The Lion King\\n',\n",
              " 'Donkey Kong 64\\n',\n",
              " 'Donkey Kong Country\\n',\n",
              " \"Donkey Kong Country 2: Diddy's Kong Quest\\n\",\n",
              " \"Donkey Kong Country 3: Dixie Kong's Double Trouble\\n\",\n",
              " \"Don't Starve\\n\",\n",
              " \"Don't Starve Together\\n\",\n",
              " 'DOOM\\n',\n",
              " 'DOOM 3\\n',\n",
              " 'DOOM 3: BFG Edition\\n',\n",
              " 'DOOM 3: Resurrection of Evil\\n',\n",
              " 'Doom 64\\n',\n",
              " 'DOOM Eternal\\n',\n",
              " 'DOOM II: Hell on Earth\\n',\n",
              " 'Dr. Mario Miracle Cure\\n',\n",
              " 'Dr. Muto\\n',\n",
              " \"Dr. Robotnik's Mean Bean Machine\\n\",\n",
              " 'Dragon Age: Inquisition\\n',\n",
              " 'Dragon Age: Origins\\n',\n",
              " 'Dragon Quest VIII: Journey of the Cursed King\\n',\n",
              " 'Dragon Warrior I\\n',\n",
              " 'Dragon Warrior II\\n',\n",
              " 'Dragon Warrior III\\n',\n",
              " \"Dragon's Lair\\n\",\n",
              " \"Dragon's Lair 2: Time Warp\\n\",\n",
              " 'DuckTales Remastered\\n',\n",
              " 'Dust: An Elysian Tail\\n',\n",
              " 'Dynamite Headdy\\n',\n",
              " 'Earthbound\\n',\n",
              " 'Earthworm Jim\\n',\n",
              " 'Earthworm Jim 2\\n',\n",
              " 'Earthworm Jim 3D\\n',\n",
              " 'Ecco Jr.\\n',\n",
              " 'Ecco the Dolphin\\n',\n",
              " 'Ecco the Tides of Time\\n',\n",
              " 'Elden Ring\\n',\n",
              " 'Elder Scrolls III: Morrowind\\n',\n",
              " 'Elder Scrolls IV: Oblivion\\n',\n",
              " 'Elder Scrolls V: Skyrim Special Edition\\n',\n",
              " 'Elliot Quest\\n',\n",
              " 'Enter the Gungeon\\n',\n",
              " 'Environmental Station Alpha\\n',\n",
              " 'Epistory - Typing Chronicles\\n',\n",
              " 'Escape Goat\\n',\n",
              " 'Escape Goat 2\\n',\n",
              " 'ESWAT: City under Siege\\n',\n",
              " 'Eternal Champions\\n',\n",
              " \"Eternal Darkness: Sanity's Requiem\\n\",\n",
              " 'Evil Within\\n',\n",
              " 'Evil Within 2\\n',\n",
              " 'Excave\\n',\n",
              " 'F.E.A.R.\\n',\n",
              " 'F.E.A.R. 2: Project Origin\\n',\n",
              " 'F.E.A.R. 3\\n',\n",
              " 'F.E.A.R.: Extraction Point\\n',\n",
              " 'F.E.A.R.: Perseus Mandate\\n',\n",
              " 'Fable Anniversary\\n',\n",
              " 'Fallout\\n',\n",
              " 'Fallout 2\\n',\n",
              " 'Fallout 3\\n',\n",
              " 'Fallout 3: Game of the Year Edition\\n',\n",
              " 'Fallout 4\\n',\n",
              " 'Fallout Tactics\\n',\n",
              " 'Fallout: New Vegas\\n',\n",
              " 'Fast Racing Neo\\n',\n",
              " 'Fatal Labyrinth\\n',\n",
              " 'Feudal Alloy\\n',\n",
              " 'Final DOOM\\n',\n",
              " 'Final Fantasy I\\n',\n",
              " 'Final Fantasy II\\n',\n",
              " 'Final Fantasy III\\n',\n",
              " 'Final Fantasy IV\\n',\n",
              " 'Final Fantasy IV: The Afteryears\\n',\n",
              " 'Final Fantasy Tactics\\n',\n",
              " 'Final Fantasy Tactics Advance\\n',\n",
              " 'Final Fantasy V\\n',\n",
              " 'Final Fantasy VI\\n',\n",
              " 'Final Fantasy VII\\n',\n",
              " 'Final Fantasy X/X-2 HD Remaster\\n',\n",
              " \"Flat Kingdom Paper's Cut Edition\\n\",\n",
              " 'Flicky\\n',\n",
              " 'Flow Free\\n',\n",
              " 'Flower\\n',\n",
              " 'Fluidity: Spin Cycle\\n',\n",
              " 'Forsaken Castle\\n',\n",
              " 'Fran Bow\\n',\n",
              " 'Franz Kafka Videogame\\n',\n",
              " 'Gain Ground\\n',\n",
              " 'Galaxy Force II\\n',\n",
              " 'Gateways\\n',\n",
              " 'Gato Roboto\\n',\n",
              " 'Gex 3: Deep Cover Gecko\\n',\n",
              " 'Gex 64: Enter the Gecko\\n',\n",
              " 'Glover\\n',\n",
              " 'Glowing Sokoban\\n',\n",
              " 'God of War\\n',\n",
              " \"Goemon's Great Adventure\\n\",\n",
              " 'Golden Axe\\n',\n",
              " 'Golden Axe 3\\n',\n",
              " 'Golden Axe II\\n',\n",
              " 'Golden Sun\\n',\n",
              " 'Golden Sun: The Lost Age\\n',\n",
              " 'Goldeneye 007\\n',\n",
              " 'Gorogoa\\n',\n",
              " 'Grand Theft Auto III\\n',\n",
              " 'Grand Theft Auto IV\\n',\n",
              " 'Grand Theft Auto V\\n',\n",
              " 'Grand Theft Auto: Episodes from Liberty City\\n',\n",
              " 'Grand Theft Auto: San Andreas\\n',\n",
              " 'Grand Theft Auto: Vice City\\n',\n",
              " 'Griddlers Katana\\n',\n",
              " 'GRIS\\n',\n",
              " 'Grounded\\n',\n",
              " 'Guacamelee! 2\\n',\n",
              " 'Guacamelee! Gold Edition\\n',\n",
              " 'Guacamelee! Super Turbo Championship Edition\\n',\n",
              " 'Guitar Hero 5\\n',\n",
              " 'Guitar Hero World Tour\\n',\n",
              " 'Guitar Hero: Warriors of Rock\\n',\n",
              " 'Gunfire Reborn\\n',\n",
              " 'Gunstar Heroes\\n',\n",
              " 'Hades\\n',\n",
              " 'Half-Life\\n',\n",
              " 'Half-Life 2\\n',\n",
              " 'Half-Life 2: Deathmatch\\n',\n",
              " 'Half-Life 2: Episode One\\n',\n",
              " 'Half-Life 2: Episode Two\\n',\n",
              " 'Half-Life 2: Lost Coast\\n',\n",
              " 'Half-Life Deathmatch: Source\\n',\n",
              " 'Half-Life: Blue Shift\\n',\n",
              " 'Half-Life: Opposing Force\\n',\n",
              " 'Half-Life: Source\\n',\n",
              " 'Halo: The Master Chief Collection\\n',\n",
              " 'Hat in Time\\n',\n",
              " 'Headlander\\n',\n",
              " \"Hellblade: Senua's Sacrifice\\n\",\n",
              " 'Heretic: Shadow of the Serpent Riders\\n',\n",
              " 'Hexceed\\n',\n",
              " 'Hexcells\\n',\n",
              " 'Hexcells Infinite\\n',\n",
              " 'Hexcells Plus\\n',\n",
              " 'HeXen II\\n',\n",
              " 'HeXen: Beyond Heretic\\n',\n",
              " 'HeXen: Deathkings of the Dark Citadel\\n',\n",
              " 'Hogwarts Legacy\\n',\n",
              " 'Hollow Knight\\n',\n",
              " 'Horizon Zero Dawn Complete Edition\\n',\n",
              " 'Hue\\n',\n",
              " \"Hunter's Legacy\\n\",\n",
              " 'ibb & obb\\n',\n",
              " 'Iconoclasts\\n',\n",
              " 'Influent\\n',\n",
              " 'Insanely Twisted Shadow Planet\\n',\n",
              " 'INSIDE\\n',\n",
              " 'Interlocked\\n',\n",
              " 'Isotiles\\n',\n",
              " 'It Takes Two\\n',\n",
              " 'Jet Force Gemini\\n',\n",
              " 'Jet Set Radio\\n',\n",
              " 'Jotun: Valhalla Edition\\n',\n",
              " 'Journey\\n',\n",
              " 'Just Dance 2014\\n',\n",
              " 'Keep Talking and Nobody Explodes\\n',\n",
              " 'Kid Chameleon\\n',\n",
              " 'Kid Dracula\\n',\n",
              " 'Kindred Fates: Combat Arena Alpha\\n',\n",
              " \"King's Quest I: Quest for the Crown\\n\",\n",
              " \"King's Quest II: Romancing the Throne\\n\",\n",
              " \"King's Quest III: To Heir is Human\\n\",\n",
              " \"King's Quest IV: The Perils of Rosella\\n\",\n",
              " \"King's Quest V: Absence Makes the Heart Go Yonder!\\n\",\n",
              " \"King's Quest VI: Heir Today, Gone Tomorrow\\n\",\n",
              " \"King's Quest VII: The Princeless Bride\\n\",\n",
              " 'Kirby & The Amazing Mirror\\n',\n",
              " 'Kirby 64: The Crystal Shards\\n',\n",
              " 'Kirby and the Rainbow Curse\\n',\n",
              " 'Kirby Canvas Curse\\n',\n",
              " 'Kirby Fighters Deluxe\\n',\n",
              " 'Kirby Mass Attack\\n',\n",
              " 'Kirby Planet Robobot\\n',\n",
              " 'Kirby Squeak Squad\\n',\n",
              " 'Kirby Super Star\\n',\n",
              " 'Kirby: Nightmare in Dream Land\\n',\n",
              " 'Kirby: Triple Deluxe\\n',\n",
              " \"Kirby's Dream Land\\n\",\n",
              " \"Kirby's Dream Land 2\\n\",\n",
              " \"Kirby's Dream Land 3\\n\",\n",
              " \"Kirby's Epic Yarn\\n\",\n",
              " \"Kirby's Return to Dream Land\\n\",\n",
              " 'Knytt Underground\\n',\n",
              " 'La-Mulana\\n',\n",
              " 'La-Mulana 2\\n',\n",
              " 'Landstalker\\n',\n",
              " 'Last Day of June\\n',\n",
              " 'Learn Japanese To Survive - Hiragana Battle\\n',\n",
              " 'Learn Japanese To Survive - Kanji Combat\\n',\n",
              " 'Learn Japanese To Survive - Katakana War\\n',\n",
              " 'Left 4 Dead\\n',\n",
              " 'Left 4 Dead 2\\n',\n",
              " 'Legacy of Kain: Soul Reaver\\n',\n",
              " 'Legacy of Kain: Soul Reaver 2\\n',\n",
              " 'Legend of Grimrock\\n',\n",
              " 'LEGO Harry Potter: Years 1-4\\n',\n",
              " 'LEGO Harry Potter: Years 5-7\\n',\n",
              " 'LEGO Star Wars: The Complete Saga\\n',\n",
              " 'LEGO Star Wars: The Skywalker Saga\\n',\n",
              " 'LEGO The Lord of the Rings\\n',\n",
              " 'LEGO Worlds\\n',\n",
              " 'Life is Strange\\n',\n",
              " 'Life is Strange 2\\n',\n",
              " 'Life is Strange: Before the Storm\\n',\n",
              " 'Life is Strange: True Colors\\n',\n",
              " 'Light Crusader\\n',\n",
              " 'LIMBO\\n',\n",
              " 'Linelight\\n',\n",
              " 'Lingotopia\\n',\n",
              " 'Link-a-Pix Color\\n',\n",
              " 'Little Nightmares\\n',\n",
              " 'Little Nightmares II\\n',\n",
              " 'Lonesome Village\\n',\n",
              " 'Lost Castle\\n',\n",
              " 'LostWinds\\n',\n",
              " 'LostWinds 2: Winder of the Melodias\\n',\n",
              " 'Lovers in a Dangerous Spacetime\\n',\n",
              " 'Lumo\\n',\n",
              " 'Maniac Mansion\\n',\n",
              " 'Mario Kart 64\\n',\n",
              " 'Mario Kart 7\\n',\n",
              " 'Mario Kart 8\\n',\n",
              " 'Mario Kart DS\\n',\n",
              " 'Mario Kart: Double Dash!!\\n',\n",
              " 'Mario Kart: Super Circuit\\n',\n",
              " 'Mario Picross\\n',\n",
              " 'Mass Effect\\n',\n",
              " 'Mass Effect 2\\n',\n",
              " 'Master Levels for DOOM II\\n',\n",
              " 'Mega Man Legacy Collection\\n',\n",
              " 'Mega Man Legacy Collection 2\\n',\n",
              " 'Mega Maze\\n',\n",
              " 'Messenger\\n',\n",
              " 'Metal Gear Solid: The Twin Snakes\\n',\n",
              " 'Metamorphosis\\n',\n",
              " 'Metroid\\n',\n",
              " 'Metroid Federation Force\\n',\n",
              " 'Metroid Fusion\\n',\n",
              " 'Metroid II: Return of Samus\\n',\n",
              " 'Metroid Prime\\n',\n",
              " 'Metroid Prime 2: Echoes\\n',\n",
              " 'Metroid Prime 3: Corruption\\n',\n",
              " 'Metroid Prime Hunters\\n',\n",
              " 'Metroid: Other M\\n',\n",
              " 'Metroid: Samus Returns\\n',\n",
              " 'Metroid: Zero Mission\\n',\n",
              " 'Middle-Earth: Shadow of Mordor\\n',\n",
              " 'Mii Plaza\\n',\n",
              " 'Mischief Makers\\n',\n",
              " 'Molecule - A Chemical Challenge\\n',\n",
              " 'Momodora: Reverie Under the Moonlight\\n',\n",
              " 'Monster Boy and the Cursed Kingdom\\n',\n",
              " 'Monster Hunter 3 Ultimate\\n',\n",
              " 'Monster Hunter 4 Ultimate\\n',\n",
              " 'Monster Hunter Generations\\n',\n",
              " 'Monster Hunter: World\\n',\n",
              " 'Monster Sanctuary\\n',\n",
              " \"Monster's Expedition\\n\",\n",
              " 'Moon Hunters\\n',\n",
              " 'Moonlighter\\n',\n",
              " 'Move Or Die\\n',\n",
              " 'Ms. Pac-Man Maze Madness\\n',\n",
              " 'Mulaka\\n',\n",
              " 'Mummy Demastered\\n',\n",
              " 'Mutant Mudds Deluxe\\n',\n",
              " 'Mystical Ninja Starring Goemon\\n',\n",
              " 'Nano Assault EX\\n',\n",
              " 'Nanotale - Typing Chronicles\\n',\n",
              " \"New Super Lucky's Tale\\n\",\n",
              " 'Nexomon: Extinction\\n',\n",
              " 'Ni no Kuni: Wrath of the White Witch Remastered\\n',\n",
              " 'Niche - A Genetics Survival Game\\n',\n",
              " 'NieR: Automata\\n',\n",
              " 'NiGHTS into Dreams...\\n',\n",
              " 'Nine Parchments\\n',\n",
              " 'Nintendo Land\\n',\n",
              " 'Oceanhorn: Monster of Uncharted Seas\\n',\n",
              " 'Odallus: The Dark Call\\n',\n",
              " 'Omega Strike\\n',\n",
              " 'Ori and the Blind Forest\\n',\n",
              " 'Ori and the Blind Forest: Definitive Edition\\n',\n",
              " 'Ori and the Will of the Wisps\\n',\n",
              " 'Out There Somewhere\\n',\n",
              " 'Outlast\\n',\n",
              " 'Ova Magica\\n',\n",
              " 'Overcooked\\n',\n",
              " 'Overcooked! 2\\n',\n",
              " 'Owlboy\\n',\n",
              " 'Oxenfree\\n',\n",
              " 'PAC-MAN Championship Edition DX\\n',\n",
              " 'Paper Mario\\n',\n",
              " 'Paper Mario: Color Splash\\n',\n",
              " 'Paper Mario: Sticker Star\\n',\n",
              " 'Paper Mario: The Thousand-Year Door\\n',\n",
              " 'Papers, Please\\n',\n",
              " 'Patch Quest\\n',\n",
              " 'Perception\\n',\n",
              " 'Perfect Dark\\n',\n",
              " 'Perfect Ear\\n',\n",
              " 'Phantasy Star 3\\n',\n",
              " 'Phantasy Star 4\\n',\n",
              " 'Phantasy Star II: The End of the Lost Age\\n',\n",
              " 'Phasmophobia\\n',\n",
              " \"Phil's Epic Fill-a-Pix Adventure\\n\",\n",
              " 'Phoenix Wright: Ace Attorney Trilogy\\n',\n",
              " 'Pic-a-Pix Color\\n',\n",
              " 'Picross 3D\\n',\n",
              " 'Picross 3D: Round 2\\n',\n",
              " 'Picross e\\n',\n",
              " 'Picross e2\\n',\n",
              " 'Picross e3\\n',\n",
              " 'Picross e4\\n',\n",
              " 'Picross e5\\n',\n",
              " 'Picross e6\\n',\n",
              " 'Picross e7\\n',\n",
              " 'Picross e8\\n',\n",
              " 'Picross Survival\\n',\n",
              " 'Pikmin\\n',\n",
              " 'Pikmin 2\\n',\n",
              " 'Pikmin 3\\n',\n",
              " 'Pocket Card Jockey\\n',\n",
              " 'Pókemon Battle Revolution\\n',\n",
              " 'Pókemon Dream Radar\\n',\n",
              " 'Pokemon Emerald\\n',\n",
              " 'Pokemon FireRed\\n',\n",
              " 'Pókemon HeartGold\\n',\n",
              " 'Pókemon Omega Ruby\\n',\n",
              " 'Pókemon Picross\\n',\n",
              " 'Pókemon Platinum\\n',\n",
              " 'Pókemon Puzzle Challenge\\n',\n",
              " 'Pókemon Rouge\\n',\n",
              " 'Pókemon Rumble\\n',\n",
              " 'Pókemon Rumble Blast\\n',\n",
              " 'Pókemon Rumble U\\n',\n",
              " 'Pókemon Rumble World\\n',\n",
              " 'Pókemon Sun\\n',\n",
              " 'Pókemon Ultra Sun\\n',\n",
              " 'Pókemon White\\n',\n",
              " 'Pókemon White 2\\n',\n",
              " 'Pókemon Y\\n',\n",
              " 'Polarity\\n',\n",
              " 'Pony Island\\n',\n",
              " 'Portal\\n',\n",
              " 'Portal 2\\n',\n",
              " 'Prince of Persia: The Sands of Time\\n',\n",
              " 'Psychonauts\\n',\n",
              " 'Psychonauts in the Rhombus of Ruin\\n',\n",
              " 'Pumpkin Jack\\n',\n",
              " 'Punch-Out!! Featuring Mr. Dream\\n',\n",
              " 'Puyo Puyo Tetris\\n',\n",
              " 'Puzzle Agent\\n',\n",
              " 'Puzzle Agent 2\\n',\n",
              " 'Puzzle With Your Friends\\n',\n",
              " 'Puzzlerama\\n',\n",
              " 'Quantum Conundrum\\n',\n",
              " 'Rain World\\n',\n",
              " 'Rainbow Billy: The Curse of the Leviathan\\n',\n",
              " 'Rayman 3: Hoodlum Havoc\\n',\n",
              " 'Rayman 3D\\n',\n",
              " 'Rayman Advance\\n',\n",
              " 'Rayman Advance\\n',\n",
              " 'Rayman Origins\\n',\n",
              " 'REalM: Walk of Soul\\n',\n",
              " 'Resident Evil / Biohazard HD\\n',\n",
              " 'Resident Evil 0 / Biohazard 0 HD Remastered\\n',\n",
              " 'Resident Evil 2 / Biohazard 2 Remastered\\n',\n",
              " 'Resident Evil 3: Nemesis\\n',\n",
              " 'Resident Evil 4\\n',\n",
              " 'Resident Evil 4 Wii Edition\\n',\n",
              " 'Resident Evil The Umbrella Chronicles\\n',\n",
              " 'Resident Evil: Resistance\\n',\n",
              " 'RiME\\n',\n",
              " 'Rise of the Triad\\n',\n",
              " 'Rise of the Triad: Dark War\\n',\n",
              " 'Ristar\\n',\n",
              " 'Road Not Taken\\n',\n",
              " 'Rocket League\\n',\n",
              " 'Rocket: Robot on Wheels\\n',\n",
              " 'Rogue Legacy\\n',\n",
              " 'Rogue Legacy 2\\n',\n",
              " 'Room\\n',\n",
              " 'Room Three\\n',\n",
              " 'Room Two\\n',\n",
              " \"Rubik's\\n\",\n",
              " 'Salt and Sanctuary\\n',\n",
              " 'Scaler\\n',\n",
              " 'Scribblenauts Unlimited\\n',\n",
              " 'Secret of Mana\\n',\n",
              " 'Secret of Monkey Island: Special Edition\\n',\n",
              " 'SEGA Mega Drive & Genesis Classics\\n',\n",
              " 'Sekiro: Shadows Die Twice\\n',\n",
              " 'Severed\\n',\n",
              " 'Sexy Brutale\\n',\n",
              " 'Shadow Complex Remastered\\n',\n",
              " 'Shadow Dancer\\n',\n",
              " 'Shantae\\n',\n",
              " \"Shantae and the Pirate's Curse\\n\",\n",
              " 'Shantae and the Seven Sirens\\n',\n",
              " 'Shantae: Half-Genie Hero\\n',\n",
              " \"Shantae: Risky's Revenge\\n\",\n",
              " \"Shantae: Risky's Revenge - Director's Cut\\n\",\n",
              " 'Shining Force\\n',\n",
              " 'Shining Force 2\\n',\n",
              " 'Shining in the Darkness\\n',\n",
              " 'Shinobi III: Return of the Ninja Master\\n',\n",
              " 'Shovel Knight: Treasure Trove\\n',\n",
              " 'Sigils of Elohim\\n',\n",
              " 'Skylar & Plux: Adventure On Clover Island\\n',\n",
              " 'Slay the Spire\\n',\n",
              " 'Slime Rancher\\n',\n",
              " 'Snake Pass\\n',\n",
              " 'SOK\\n',\n",
              " 'SOK PRO\\n',\n",
              " 'Sokoban (Boxman) Classic\\n',\n",
              " 'Sokoban Collection Free\\n',\n",
              " 'Sokobond\\n',\n",
              " 'Song of the Deep\\n',\n",
              " 'Sonic 3 & Knuckles\\n',\n",
              " 'Sonic 3D Blast\\n',\n",
              " 'Sonic Adventure 2\\n',\n",
              " 'Sonic Adventure DX\\n',\n",
              " 'Sonic CD\\n',\n",
              " 'Sonic Spinball\\n',\n",
              " 'Sonic the Hedgehog\\n',\n",
              " 'Sonic the Hedgehog 2\\n',\n",
              " 'Souldiers\\n',\n",
              " 'Space Harrier II\\n',\n",
              " 'Space Station Silicon Valley\\n',\n",
              " 'Spelunky\\n',\n",
              " 'Spelunky 2\\n',\n",
              " 'Sphinx and the Cursed Mummy\\n',\n",
              " 'Spiritfarer\\n',\n",
              " 'Splatoon\\n',\n",
              " 'Spooky Ghost Dot Com\\n',\n",
              " 'Spyro Reignited Trilogy\\n',\n",
              " 'STAR WARS Episode I Racer\\n',\n",
              " 'STAR WARS Jedi: Fallen Order\\n',\n",
              " 'STAR WARS Knights of the Old Republic\\n',\n",
              " 'STAR WARS Knights of the Old Republic II: The Sith Lords\\n',\n",
              " 'STAR WARS Republic Commando\\n',\n",
              " 'STAR WARS Rogue Squadron 3D\\n',\n",
              " 'STAR WARS Rogue Squadron II: Rogue Leader\\n',\n",
              " 'STAR WARS Shadows of the Empire\\n',\n",
              " 'Starfox 64 3D\\n',\n",
              " 'SteamWorld Dig\\n',\n",
              " 'SteamWorld Dig 2\\n',\n",
              " 'Streets of Rage\\n',\n",
              " 'Streets of Rage 2\\n',\n",
              " 'Streets of Rage 3\\n',\n",
              " 'Strider\\n',\n",
              " 'Subnautica\\n',\n",
              " 'Sundered\\n',\n",
              " 'Super Castlevania IV\\n',\n",
              " \"Super Lucky's Tale\\n\",\n",
              " 'Super Mario 3D Land\\n',\n",
              " 'Super Mario 3D World\\n',\n",
              " 'Super Mario 64\\n',\n",
              " 'Super Mario 64 DS\\n',\n",
              " 'Super Mario Advance\\n',\n",
              " 'Super Mario Bros. 3: Super Mario Advance 4\\n',\n",
              " 'Super Mario Bros. Deluxe\\n',\n",
              " 'Super Mario Galaxy\\n',\n",
              " 'Super Mario Galaxy 2\\n',\n",
              " 'Super Mario Kart\\n',\n",
              " 'Super Mario RPG: Legend of the Seven Stars\\n',\n",
              " 'Super Mario Sunshine\\n',\n",
              " 'Super Mario World: Super Mario Advance 2\\n',\n",
              " 'Super Meat Boy\\n',\n",
              " 'Super Metroid\\n',\n",
              " 'Super Monkey Ball 3D\\n',\n",
              " 'Super Monkey Ball Adventure\\n',\n",
              " 'Super Monkey Ball Banana Mania\\n',\n",
              " 'Super Monkey Ball: Banana Blitz HD\\n',\n",
              " 'Super Paper Mario\\n',\n",
              " 'Super Smash Bros\\n',\n",
              " 'Super Thunder Blade\\n',\n",
              " 'SuperEpic: The Entertainment War\\n',\n",
              " 'Superliminal\\n',\n",
              " 'Swapper\\n',\n",
              " 'Sword of Vermilion\\n',\n",
              " \"Swords of Ditto: Mormo's Curse\\n\",\n",
              " 'System Shock 2\\n',\n",
              " 'System Shock: Classic\\n',\n",
              " 'System Shock: Enhanced Edition\\n',\n",
              " 'Tales of Symphonia\\n',\n",
              " 'Talos Principle\\n',\n",
              " 'Team Fortress Classic\\n',\n",
              " 'Team Kirby Clash Deluxe\\n',\n",
              " 'Tell Me Why\\n',\n",
              " 'Temtem\\n',\n",
              " 'Tengami\\n',\n",
              " 'Terraria\\n',\n",
              " 'Teslagrad\\n',\n",
              " 'Tetris Ultimate\\n',\n",
              " 'The Legend of Kusakari\\n',\n",
              " 'The Legend of Zelda\\n',\n",
              " 'The Legend of Zelda Picross: Twilight Princess\\n',\n",
              " 'The Legend of Zelda: A Link Between Worlds\\n',\n",
              " 'The Legend of Zelda: A Link to the Past\\n',\n",
              " 'The Legend of Zelda: Breath of the Wild\\n',\n",
              " 'The Legend of Zelda: Four Swords Adventures\\n',\n",
              " \"The Legend of Zelda: Link's Awakening DX\\n\",\n",
              " \"The Legend of Zelda: Majora's Mask\\n\",\n",
              " 'The Legend of Zelda: Ocarina of Time\\n',\n",
              " 'The Legend of Zelda: Oracle of Ages\\n',\n",
              " 'The Legend of Zelda: Oracle of Seasons\\n',\n",
              " 'The Legend of Zelda: Phantom Hourglass\\n',\n",
              " 'The Legend of Zelda: Skyward Sword\\n',\n",
              " 'The Legend of Zelda: Spirit Tracks\\n',\n",
              " 'The Legend of Zelda: The Minish Cap\\n',\n",
              " 'The Legend of Zelda: The Wind Waker\\n',\n",
              " 'The Legend of Zelda: Triforce Heroes\\n',\n",
              " 'The Legend of Zelda: Twilight Princess\\n',\n",
              " 'The Revenge of Shinobi\\n',\n",
              " 'The Simpsons: Hit & Run\\n',\n",
              " 'The Starship Damrey\\n',\n",
              " 'Thomas Was Alone\\n',\n",
              " 'Timespinner\\n',\n",
              " 'Toejam and Earl\\n',\n",
              " 'Toejam and Earl in Panic on Funkotron\\n',\n",
              " \"Tom Clancy's Splinter Cell\\n\",\n",
              " \"Tom Clancy's Splinter Cell: Chaos Theory\\n\",\n",
              " 'Tomb of the Mask\\n',\n",
              " 'Tomb Raider\\n',\n",
              " 'Tonic Trouble\\n',\n",
              " 'Touhou Luna Nights\\n',\n",
              " 'Town of Salem\\n',\n",
              " 'Transistor\\n',\n",
              " 'Trauma Team\\n',\n",
              " 'Trials of Mana\\n',\n",
              " 'Trick & Treat\\n',\n",
              " 'Tricky Towers\\n',\n",
              " 'Trine\\n',\n",
              " 'Trine 2\\n',\n",
              " 'Trine 3: The Artifacts of Power\\n',\n",
              " 'Trine 4: The Nightmare Prince\\n',\n",
              " 'TY the Tasmanian Tiger\\n',\n",
              " 'TY the Tasmanian Tiger 2: Bush Rescue\\n',\n",
              " 'TY the Tasmanian Tiger 3: Night of the Quinkan\\n',\n",
              " 'TY the Tasmanian Tiger 4\\n',\n",
              " 'Ultimate Doom\\n',\n",
              " 'Undertale\\n',\n",
              " 'UnEpic\\n',\n",
              " 'Unsighted\\n',\n",
              " 'Valdis Story: Abyssal City\\n',\n",
              " 'Vectorman\\n',\n",
              " 'Vectorman 2\\n',\n",
              " 'Vexx\\n',\n",
              " 'Virtua Fighter 2\\n',\n",
              " 'Voodo Vince: Remastered\\n',\n",
              " 'VVVVVV\\n',\n",
              " 'Waking Mars\\n',\n",
              " 'Walking Dead\\n',\n",
              " 'Walking Dead: A New Frontier\\n',\n",
              " 'Walking Dead: Michonne\\n',\n",
              " 'Walking Dead: Season Two\\n',\n",
              " 'Walking Dead: The Final Season\\n',\n",
              " 'Wario Land 3\\n',\n",
              " 'Wario Land 4\\n',\n",
              " 'Wario Land II\\n',\n",
              " 'Wario Land: Shake It\\n',\n",
              " 'Wario World\\n',\n",
              " 'Wario: Master of Disguise\\n',\n",
              " \"Who's Your Daddy?!\\n\",\n",
              " \"Wilmot's Warehouse\\n\",\n",
              " 'Wings of Vi\\n',\n",
              " 'Witcher 2: Assassin of Kings Enhanced Edition\\n',\n",
              " 'Witcher 3: Wild Hunt\\n',\n",
              " 'Witcher: Enhanced Edition\\n',\n",
              " 'Witness\\n',\n",
              " 'Wonder Boy III: Monster Lair\\n',\n",
              " 'Wonder Boy in Monster World\\n',\n",
              " 'World of Final Fantasy\\n',\n",
              " 'XCOM: Enemy Unknown\\n',\n",
              " 'Xeodrifter\\n',\n",
              " \"Yoku's Island Express\\n\",\n",
              " 'Yooka-Laylee\\n',\n",
              " 'Yooka-Laylee and the Impossible Lair\\n',\n",
              " \"Yoshi's Island: Super Mario Advance 3\\n\",\n",
              " \"Yoshi's Story\\n\",\n",
              " \"Yoshi's Woolly World\\n\",\n",
              " 'Zelda II: The Adventure of Link']"
            ]
          },
          "metadata": {},
          "execution_count": 885
        }
      ]
    },
    {
      "cell_type": "code",
      "source": [
        "len(juegos_totales)"
      ],
      "metadata": {
        "colab": {
          "base_uri": "https://localhost:8080/"
        },
        "id": "k1Yk3zGEOFW8",
        "outputId": "dea44dad-74c6-48a4-f4d5-372e961049bd"
      },
      "execution_count": null,
      "outputs": [
        {
          "output_type": "execute_result",
          "data": {
            "text/plain": [
              "709"
            ]
          },
          "metadata": {},
          "execution_count": 886
        }
      ]
    },
    {
      "cell_type": "code",
      "source": [
        "juegos_tot = []\n",
        "for linea in juegos_totales:\n",
        "    juegos_total = linea.strip()\n",
        "    juegos_tot.append(juegos_total)"
      ],
      "metadata": {
        "id": "jf6uuKmHHDR4"
      },
      "execution_count": null,
      "outputs": []
    },
    {
      "cell_type": "code",
      "source": [
        "juegos_tot"
      ],
      "metadata": {
        "id": "fIKK_kuS9DRx"
      },
      "execution_count": null,
      "outputs": []
    },
    {
      "cell_type": "code",
      "source": [
        "juegos_faltantes = []\n",
        "for juego in juegos_tot:\n",
        "    if juego not in juegos_jugados:\n",
        "        juegos_faltantes.append(juego)"
      ],
      "metadata": {
        "id": "XMrV9yZTHSpS"
      },
      "execution_count": null,
      "outputs": []
    },
    {
      "cell_type": "code",
      "source": [
        "juegos_faltantes"
      ],
      "metadata": {
        "id": "cCOBBPABIyPi",
        "colab": {
          "base_uri": "https://localhost:8080/"
        },
        "outputId": "c51bfbe6-1d28-444e-fd8f-833d625587a1"
      },
      "execution_count": null,
      "outputs": [
        {
          "output_type": "execute_result",
          "data": {
            "text/plain": [
              "['2048',\n",
              " '1000 Amps',\n",
              " '3D Retro Dungeon Challenge',\n",
              " '3Souls',\n",
              " '40 Winks',\n",
              " 'Ace Attorney Apollo Justice',\n",
              " 'Ace Attorney Dual Destinies',\n",
              " 'Ace Attorney Spirit of Justice',\n",
              " 'Advance Wars',\n",
              " 'Advance Wars 2',\n",
              " 'Advance Wars 2: Black Hole Rising',\n",
              " 'Advance Wars: Dual Strike',\n",
              " 'Affordable Space Adventure',\n",
              " 'Afterparty',\n",
              " 'Aggelos',\n",
              " 'Alex Kidd in the Enchanted Castle',\n",
              " 'Alex Kidd in the Miracle World XD',\n",
              " 'Alien Soldier',\n",
              " 'Alien Storm',\n",
              " 'Altered Beast',\n",
              " \"Alwa's Awakening\",\n",
              " 'Among Us',\n",
              " 'Antichamber',\n",
              " 'Aquatic Adventure of the Last Human',\n",
              " 'Armillo',\n",
              " \"Assassin's Creed II\",\n",
              " 'Attractio',\n",
              " 'Axiom Verge',\n",
              " 'Aztaka',\n",
              " 'Baba is You',\n",
              " 'Banjo Tooie',\n",
              " 'Banjo-Kazooie',\n",
              " 'Batman: Arkham Asylum GOTY',\n",
              " 'Batman: Arkham City GOTY',\n",
              " 'BattleBlock Theater',\n",
              " 'Beyond Good & Evil',\n",
              " 'Beyond Oasis',\n",
              " 'Binding of Isaac: Rebirth',\n",
              " 'Bio-Hazard Battle',\n",
              " 'BioShock',\n",
              " 'BioShock 2',\n",
              " 'BioShock 2 Remastered',\n",
              " 'BioShock Infinite',\n",
              " 'BioShock Remastered',\n",
              " 'Biped',\n",
              " 'Blasphemous',\n",
              " 'Block-a-Pix Color',\n",
              " 'Bloodstained: Curse of the Moon',\n",
              " 'Bloodstained: Ritual of the Night',\n",
              " 'Blossom Tales: The Sleeping King',\n",
              " 'Bonanza Bros',\n",
              " 'Box Box Boy!',\n",
              " 'Box Boy!',\n",
              " 'Braid',\n",
              " 'Brothers - A Tale of Two Sons',\n",
              " 'Brütal Legend',\n",
              " 'Bubble Bobble',\n",
              " 'Buck Bumble',\n",
              " 'Bye-Bye Box Boy!',\n",
              " 'Call of Duty 4: Modern Warfare',\n",
              " 'Capsized',\n",
              " 'CARRION',\n",
              " 'Cassette Beasts',\n",
              " 'Castle in the Darkness',\n",
              " 'Castlevania Advance Collection',\n",
              " 'Castlevania Anniversary Collection',\n",
              " 'Castlevania Dracula X',\n",
              " \"Castlevania II: Simon's Quest\",\n",
              " \"Castlevania III: Dracula's Curse\",\n",
              " 'Castlevania: Aria of Sorrow',\n",
              " 'Castlevania: Circle of the Moon',\n",
              " 'Castlevania: Harmony of Dissonance',\n",
              " 'Celeste',\n",
              " 'Chameleon Twist',\n",
              " 'Chameleon Twist 2',\n",
              " 'Chasm',\n",
              " 'Child of Light',\n",
              " \"Chip's Challenge 2\",\n",
              " 'Chrono Trigger',\n",
              " 'Columns',\n",
              " 'Columns III: Revenge of Columns',\n",
              " 'Comix Zone',\n",
              " \"Conker's Bad Fur Day\",\n",
              " 'Contagion',\n",
              " 'Contra 4',\n",
              " 'Contra Anniversary Collection',\n",
              " 'Coromon',\n",
              " 'Crack Down',\n",
              " 'Crash Bandicoot N. Sane Trilogy',\n",
              " 'Crypt of the NecroDancer',\n",
              " 'Cube Escape Collection',\n",
              " 'Cyberpunk 2077',\n",
              " 'Dark Souls II: Scholar of the First Sin',\n",
              " 'Dark Souls III',\n",
              " 'Dark Souls: Prepare to Die Edition',\n",
              " 'Dark Souls: Remastered',\n",
              " 'Dead by Death',\n",
              " 'Dead Cells',\n",
              " 'Dead Space',\n",
              " 'Deadly Tower of Monsters',\n",
              " \"Death's Gambit\",\n",
              " 'Decap Attack',\n",
              " 'Deiland',\n",
              " 'Delver',\n",
              " 'Deus Ex: Game of the Year Edition',\n",
              " 'Diddy Kong Racing',\n",
              " 'Disco Elysium',\n",
              " 'Disney Classic Games: Aladdin and The Lion King',\n",
              " 'Donkey Kong Country',\n",
              " \"Donkey Kong Country 2: Diddy's Kong Quest\",\n",
              " \"Donkey Kong Country 3: Dixie Kong's Double Trouble\",\n",
              " \"Don't Starve\",\n",
              " \"Don't Starve Together\",\n",
              " 'DOOM',\n",
              " 'DOOM 3',\n",
              " 'DOOM 3: BFG Edition',\n",
              " 'DOOM 3: Resurrection of Evil',\n",
              " 'Doom 64',\n",
              " 'DOOM Eternal',\n",
              " 'DOOM II: Hell on Earth',\n",
              " 'Dr. Muto',\n",
              " \"Dr. Robotnik's Mean Bean Machine\",\n",
              " 'Dragon Age: Inquisition',\n",
              " 'Dragon Age: Origins',\n",
              " 'Dragon Quest VIII: Journey of the Cursed King',\n",
              " 'Dragon Warrior III',\n",
              " \"Dragon's Lair 2: Time Warp\",\n",
              " 'Dust: An Elysian Tail',\n",
              " 'Dynamite Headdy',\n",
              " 'Earthworm Jim',\n",
              " 'Earthworm Jim 2',\n",
              " 'Ecco Jr.',\n",
              " 'Ecco the Dolphin',\n",
              " 'Ecco the Tides of Time',\n",
              " 'Elden Ring',\n",
              " 'Elder Scrolls III: Morrowind',\n",
              " 'Elder Scrolls IV: Oblivion',\n",
              " 'Elder Scrolls V: Skyrim Special Edition',\n",
              " 'Elliot Quest',\n",
              " 'Enter the Gungeon',\n",
              " 'Environmental Station Alpha',\n",
              " 'Escape Goat',\n",
              " 'Escape Goat 2',\n",
              " 'ESWAT: City under Siege',\n",
              " 'Eternal Champions',\n",
              " \"Eternal Darkness: Sanity's Requiem\",\n",
              " 'Evil Within',\n",
              " 'Evil Within 2',\n",
              " 'F.E.A.R.',\n",
              " 'F.E.A.R. 2: Project Origin',\n",
              " 'F.E.A.R. 3',\n",
              " 'F.E.A.R.: Extraction Point',\n",
              " 'F.E.A.R.: Perseus Mandate',\n",
              " 'Fable Anniversary',\n",
              " 'Fallout',\n",
              " 'Fallout 2',\n",
              " 'Fallout 3',\n",
              " 'Fallout 3: Game of the Year Edition',\n",
              " 'Fallout 4',\n",
              " 'Fallout Tactics',\n",
              " 'Fallout: New Vegas',\n",
              " 'Fast Racing Neo',\n",
              " 'Fatal Labyrinth',\n",
              " 'Feudal Alloy',\n",
              " 'Final DOOM',\n",
              " 'Final Fantasy II',\n",
              " 'Final Fantasy III',\n",
              " 'Final Fantasy IV',\n",
              " 'Final Fantasy IV: The Afteryears',\n",
              " 'Final Fantasy Tactics',\n",
              " 'Final Fantasy Tactics Advance',\n",
              " 'Final Fantasy V',\n",
              " 'Final Fantasy VI',\n",
              " 'Final Fantasy VII',\n",
              " 'Final Fantasy X/X-2 HD Remaster',\n",
              " \"Flat Kingdom Paper's Cut Edition\",\n",
              " 'Flower',\n",
              " 'Fluidity: Spin Cycle',\n",
              " 'Forsaken Castle',\n",
              " 'Gain Ground',\n",
              " 'Galaxy Force II',\n",
              " 'Gateways',\n",
              " 'Gex 3: Deep Cover Gecko',\n",
              " 'Gex 64: Enter the Gecko',\n",
              " 'Glover',\n",
              " 'God of War',\n",
              " \"Goemon's Great Adventure\",\n",
              " 'Golden Axe',\n",
              " 'Golden Axe 3',\n",
              " 'Golden Axe II',\n",
              " 'Golden Sun',\n",
              " 'Golden Sun: The Lost Age',\n",
              " 'Goldeneye 007',\n",
              " 'Grand Theft Auto III',\n",
              " 'Grand Theft Auto IV',\n",
              " 'Grand Theft Auto V',\n",
              " 'Grand Theft Auto: Episodes from Liberty City',\n",
              " 'Grand Theft Auto: San Andreas',\n",
              " 'Grand Theft Auto: Vice City',\n",
              " 'Griddlers Katana',\n",
              " 'GRIS',\n",
              " 'Grounded',\n",
              " 'Guacamelee! 2',\n",
              " 'Guacamelee! Gold Edition',\n",
              " 'Guacamelee! Super Turbo Championship Edition',\n",
              " 'Guitar Hero 5',\n",
              " 'Gunfire Reborn',\n",
              " 'Gunstar Heroes',\n",
              " 'Hades',\n",
              " 'Half-Life',\n",
              " 'Half-Life 2',\n",
              " 'Half-Life 2: Deathmatch',\n",
              " 'Half-Life 2: Episode One',\n",
              " 'Half-Life 2: Episode Two',\n",
              " 'Half-Life 2: Lost Coast',\n",
              " 'Half-Life Deathmatch: Source',\n",
              " 'Half-Life: Blue Shift',\n",
              " 'Half-Life: Opposing Force',\n",
              " 'Half-Life: Source',\n",
              " 'Halo: The Master Chief Collection',\n",
              " 'Hat in Time',\n",
              " 'Headlander',\n",
              " \"Hellblade: Senua's Sacrifice\",\n",
              " 'Heretic: Shadow of the Serpent Riders',\n",
              " 'Hexceed',\n",
              " 'Hexcells Infinite',\n",
              " 'HeXen II',\n",
              " 'HeXen: Beyond Heretic',\n",
              " 'HeXen: Deathkings of the Dark Citadel',\n",
              " 'Hogwarts Legacy',\n",
              " 'Horizon Zero Dawn Complete Edition',\n",
              " 'Iconoclasts',\n",
              " 'Insanely Twisted Shadow Planet',\n",
              " 'INSIDE',\n",
              " 'It Takes Two',\n",
              " 'Jet Force Gemini',\n",
              " 'Jet Set Radio',\n",
              " 'Jotun: Valhalla Edition',\n",
              " 'Journey',\n",
              " 'Kid Chameleon',\n",
              " 'Kid Dracula',\n",
              " 'Kindred Fates: Combat Arena Alpha',\n",
              " \"King's Quest IV: The Perils of Rosella\",\n",
              " \"King's Quest V: Absence Makes the Heart Go Yonder!\",\n",
              " \"King's Quest VI: Heir Today, Gone Tomorrow\",\n",
              " \"King's Quest VII: The Princeless Bride\",\n",
              " 'Kirby & The Amazing Mirror',\n",
              " 'Kirby 64: The Crystal Shards',\n",
              " 'Kirby and the Rainbow Curse',\n",
              " 'Kirby Canvas Curse',\n",
              " 'Kirby Mass Attack',\n",
              " 'Kirby Squeak Squad',\n",
              " 'Kirby Super Star',\n",
              " \"Kirby's Dream Land 3\",\n",
              " \"Kirby's Epic Yarn\",\n",
              " \"Kirby's Return to Dream Land\",\n",
              " 'Knytt Underground',\n",
              " 'La-Mulana',\n",
              " 'La-Mulana 2',\n",
              " 'Landstalker',\n",
              " 'Last Day of June',\n",
              " 'Learn Japanese To Survive - Kanji Combat',\n",
              " 'Learn Japanese To Survive - Katakana War',\n",
              " 'Left 4 Dead',\n",
              " 'Left 4 Dead 2',\n",
              " 'Legacy of Kain: Soul Reaver',\n",
              " 'Legacy of Kain: Soul Reaver 2',\n",
              " 'Legend of Grimrock',\n",
              " 'LEGO Harry Potter: Years 1-4',\n",
              " 'LEGO Harry Potter: Years 5-7',\n",
              " 'LEGO Star Wars: The Complete Saga',\n",
              " 'LEGO Star Wars: The Skywalker Saga',\n",
              " 'LEGO The Lord of the Rings',\n",
              " 'LEGO Worlds',\n",
              " 'Life is Strange',\n",
              " 'Life is Strange 2',\n",
              " 'Life is Strange: Before the Storm',\n",
              " 'Life is Strange: True Colors',\n",
              " 'Light Crusader',\n",
              " 'LIMBO',\n",
              " 'Linelight',\n",
              " 'Lingotopia',\n",
              " 'Link-a-Pix Color',\n",
              " 'Little Nightmares II',\n",
              " 'Lonesome Village',\n",
              " 'Lost Castle',\n",
              " 'LostWinds',\n",
              " 'LostWinds 2: Winder of the Melodias',\n",
              " 'Lovers in a Dangerous Spacetime',\n",
              " 'Lumo',\n",
              " 'Maniac Mansion',\n",
              " 'Mario Kart 64',\n",
              " 'Mario Kart 8',\n",
              " 'Mario Kart DS',\n",
              " 'Mario Kart: Double Dash!!',\n",
              " 'Mario Kart: Super Circuit',\n",
              " 'Mario Picross',\n",
              " 'Mass Effect',\n",
              " 'Mass Effect 2',\n",
              " 'Master Levels for DOOM II',\n",
              " 'Mega Man Legacy Collection',\n",
              " 'Mega Man Legacy Collection 2',\n",
              " 'Messenger',\n",
              " 'Metal Gear Solid: The Twin Snakes',\n",
              " 'Metamorphosis',\n",
              " 'Metroid Fusion',\n",
              " 'Metroid Prime 2: Echoes',\n",
              " 'Metroid Prime 3: Corruption',\n",
              " 'Metroid Prime Hunters',\n",
              " 'Metroid: Other M',\n",
              " 'Metroid: Samus Returns',\n",
              " 'Middle-Earth: Shadow of Mordor',\n",
              " 'Mischief Makers',\n",
              " 'Momodora: Reverie Under the Moonlight',\n",
              " 'Monster Boy and the Cursed Kingdom',\n",
              " 'Monster Hunter 3 Ultimate',\n",
              " 'Monster Hunter 4 Ultimate',\n",
              " 'Monster Hunter Generations',\n",
              " 'Monster Hunter: World',\n",
              " 'Monster Sanctuary',\n",
              " \"Monster's Expedition\",\n",
              " 'Moon Hunters',\n",
              " 'Moonlighter',\n",
              " 'Move Or Die',\n",
              " 'Ms. Pac-Man Maze Madness',\n",
              " 'Mulaka',\n",
              " 'Mummy Demastered',\n",
              " 'Mystical Ninja Starring Goemon',\n",
              " 'Nano Assault EX',\n",
              " \"New Super Lucky's Tale\",\n",
              " 'Nexomon: Extinction',\n",
              " 'Ni no Kuni: Wrath of the White Witch Remastered',\n",
              " 'Niche - A Genetics Survival Game',\n",
              " 'NieR: Automata',\n",
              " 'NiGHTS into Dreams...',\n",
              " 'Nine Parchments',\n",
              " 'Odallus: The Dark Call',\n",
              " 'Omega Strike',\n",
              " 'Ori and the Blind Forest',\n",
              " 'Ori and the Blind Forest: Definitive Edition',\n",
              " 'Ori and the Will of the Wisps',\n",
              " 'Out There Somewhere',\n",
              " 'Outlast',\n",
              " 'Ova Magica',\n",
              " 'Overcooked! 2',\n",
              " 'Owlboy',\n",
              " 'Oxenfree',\n",
              " 'PAC-MAN Championship Edition DX',\n",
              " 'Paper Mario',\n",
              " 'Paper Mario: Color Splash',\n",
              " 'Paper Mario: The Thousand-Year Door',\n",
              " 'Papers, Please',\n",
              " 'Patch Quest',\n",
              " 'Perception',\n",
              " 'Perfect Dark',\n",
              " 'Perfect Ear',\n",
              " 'Phantasy Star 3',\n",
              " 'Phantasy Star 4',\n",
              " 'Phantasy Star II: The End of the Lost Age',\n",
              " 'Phasmophobia',\n",
              " \"Phil's Epic Fill-a-Pix Adventure\",\n",
              " 'Phoenix Wright: Ace Attorney Trilogy',\n",
              " 'Pic-a-Pix Color',\n",
              " 'Picross e',\n",
              " 'Picross e2',\n",
              " 'Picross e3',\n",
              " 'Picross e4',\n",
              " 'Picross e5',\n",
              " 'Picross e6',\n",
              " 'Picross e7',\n",
              " 'Picross e8',\n",
              " 'Pikmin',\n",
              " 'Pikmin 2',\n",
              " 'Pikmin 3',\n",
              " 'Pocket Card Jockey',\n",
              " 'Pókemon Battle Revolution',\n",
              " 'Pokemon Emerald',\n",
              " 'Pokemon FireRed',\n",
              " 'Pókemon Puzzle Challenge',\n",
              " 'Pókemon White 2',\n",
              " 'Pony Island',\n",
              " 'Prince of Persia: The Sands of Time',\n",
              " 'Psychonauts',\n",
              " 'Psychonauts in the Rhombus of Ruin',\n",
              " 'Pumpkin Jack',\n",
              " 'Puyo Puyo Tetris',\n",
              " 'Puzzle Agent 2',\n",
              " 'Quantum Conundrum',\n",
              " 'Rain World',\n",
              " 'Rainbow Billy: The Curse of the Leviathan',\n",
              " 'Rayman 3: Hoodlum Havoc',\n",
              " 'Rayman Advance',\n",
              " 'Rayman Advance',\n",
              " 'Rayman Origins',\n",
              " 'REalM: Walk of Soul',\n",
              " 'Resident Evil / Biohazard HD',\n",
              " 'Resident Evil 0 / Biohazard 0 HD Remastered',\n",
              " 'Resident Evil 2 / Biohazard 2 Remastered',\n",
              " 'Resident Evil 3: Nemesis',\n",
              " 'Resident Evil 4',\n",
              " 'Resident Evil 4 Wii Edition',\n",
              " 'Resident Evil The Umbrella Chronicles',\n",
              " 'Resident Evil: Resistance',\n",
              " 'Rise of the Triad',\n",
              " 'Rise of the Triad: Dark War',\n",
              " 'Ristar',\n",
              " 'Rocket: Robot on Wheels',\n",
              " 'Rogue Legacy 2',\n",
              " 'Room Three',\n",
              " 'Room Two',\n",
              " 'Salt and Sanctuary',\n",
              " 'Scaler',\n",
              " 'Scribblenauts Unlimited',\n",
              " 'Secret of Mana',\n",
              " 'Sekiro: Shadows Die Twice',\n",
              " 'Sexy Brutale',\n",
              " 'Shadow Complex Remastered',\n",
              " 'Shadow Dancer',\n",
              " 'Shining Force',\n",
              " 'Shining Force 2',\n",
              " 'Shining in the Darkness',\n",
              " 'Shinobi III: Return of the Ninja Master',\n",
              " 'Shovel Knight: Treasure Trove',\n",
              " 'Skylar & Plux: Adventure On Clover Island',\n",
              " 'Slay the Spire',\n",
              " 'Slime Rancher',\n",
              " 'Snake Pass',\n",
              " 'SOK PRO',\n",
              " 'Sokoban (Boxman) Classic',\n",
              " 'Sokobond',\n",
              " 'Song of the Deep',\n",
              " 'Sonic 3 & Knuckles',\n",
              " 'Sonic 3D Blast',\n",
              " 'Sonic CD',\n",
              " 'Sonic Spinball',\n",
              " 'Sonic the Hedgehog',\n",
              " 'Sonic the Hedgehog 2',\n",
              " 'Souldiers',\n",
              " 'Space Harrier II',\n",
              " 'Space Station Silicon Valley',\n",
              " 'Spelunky',\n",
              " 'Spelunky 2',\n",
              " 'Sphinx and the Cursed Mummy',\n",
              " 'Spiritfarer',\n",
              " 'Splatoon',\n",
              " 'Spooky Ghost Dot Com',\n",
              " 'Spyro Reignited Trilogy',\n",
              " 'STAR WARS Episode I Racer',\n",
              " 'STAR WARS Jedi: Fallen Order',\n",
              " 'STAR WARS Knights of the Old Republic',\n",
              " 'STAR WARS Knights of the Old Republic II: The Sith Lords',\n",
              " 'STAR WARS Republic Commando',\n",
              " 'STAR WARS Rogue Squadron 3D',\n",
              " 'STAR WARS Rogue Squadron II: Rogue Leader',\n",
              " 'STAR WARS Shadows of the Empire',\n",
              " 'SteamWorld Dig',\n",
              " 'SteamWorld Dig 2',\n",
              " 'Streets of Rage',\n",
              " 'Streets of Rage 2',\n",
              " 'Streets of Rage 3',\n",
              " 'Strider',\n",
              " 'Subnautica',\n",
              " 'Sundered',\n",
              " 'Super Castlevania IV',\n",
              " \"Super Lucky's Tale\",\n",
              " 'Super Mario 3D World',\n",
              " 'Super Mario 64 DS',\n",
              " 'Super Mario Bros. 3: Super Mario Advance 4',\n",
              " 'Super Mario Galaxy',\n",
              " 'Super Mario Galaxy 2',\n",
              " 'Super Mario Kart',\n",
              " 'Super Mario RPG: Legend of the Seven Stars',\n",
              " 'Super Mario Sunshine',\n",
              " 'Super Mario World: Super Mario Advance 2',\n",
              " 'Super Meat Boy',\n",
              " 'Super Monkey Ball 3D',\n",
              " 'Super Monkey Ball Adventure',\n",
              " 'Super Monkey Ball: Banana Blitz HD',\n",
              " 'Super Paper Mario',\n",
              " 'Super Smash Bros',\n",
              " 'Super Thunder Blade',\n",
              " 'SuperEpic: The Entertainment War',\n",
              " 'Superliminal',\n",
              " 'Swapper',\n",
              " 'Sword of Vermilion',\n",
              " \"Swords of Ditto: Mormo's Curse\",\n",
              " 'System Shock 2',\n",
              " 'System Shock: Classic',\n",
              " 'System Shock: Enhanced Edition',\n",
              " 'Tales of Symphonia',\n",
              " 'Team Fortress Classic',\n",
              " 'Tell Me Why',\n",
              " 'Temtem',\n",
              " 'Teslagrad',\n",
              " 'The Legend of Kusakari',\n",
              " 'The Legend of Zelda: A Link Between Worlds',\n",
              " 'The Legend of Zelda: Breath of the Wild',\n",
              " 'The Legend of Zelda: Four Swords Adventures',\n",
              " \"The Legend of Zelda: Majora's Mask\",\n",
              " 'The Legend of Zelda: Oracle of Seasons',\n",
              " 'The Legend of Zelda: Phantom Hourglass',\n",
              " 'The Legend of Zelda: Skyward Sword',\n",
              " 'The Legend of Zelda: Spirit Tracks',\n",
              " 'The Legend of Zelda: The Minish Cap',\n",
              " 'The Legend of Zelda: The Wind Waker',\n",
              " 'The Legend of Zelda: Twilight Princess',\n",
              " 'The Revenge of Shinobi',\n",
              " 'The Simpsons: Hit & Run',\n",
              " 'The Starship Damrey',\n",
              " 'Thomas Was Alone',\n",
              " 'Timespinner',\n",
              " 'Toejam and Earl',\n",
              " 'Toejam and Earl in Panic on Funkotron',\n",
              " \"Tom Clancy's Splinter Cell\",\n",
              " \"Tom Clancy's Splinter Cell: Chaos Theory\",\n",
              " 'Tomb Raider',\n",
              " 'Tonic Trouble',\n",
              " 'Touhou Luna Nights',\n",
              " 'Town of Salem',\n",
              " 'Transistor',\n",
              " 'Trauma Team',\n",
              " 'Trials of Mana',\n",
              " 'Tricky Towers',\n",
              " 'Trine',\n",
              " 'Trine 2',\n",
              " 'Trine 3: The Artifacts of Power',\n",
              " 'Trine 4: The Nightmare Prince',\n",
              " 'TY the Tasmanian Tiger 2: Bush Rescue',\n",
              " 'TY the Tasmanian Tiger 3: Night of the Quinkan',\n",
              " 'TY the Tasmanian Tiger 4',\n",
              " 'Undertale',\n",
              " 'UnEpic',\n",
              " 'Unsighted',\n",
              " 'Valdis Story: Abyssal City',\n",
              " 'Vectorman',\n",
              " 'Vectorman 2',\n",
              " 'Vexx',\n",
              " 'Virtua Fighter 2',\n",
              " 'Voodo Vince: Remastered',\n",
              " 'VVVVVV',\n",
              " 'Waking Mars',\n",
              " 'Walking Dead: A New Frontier',\n",
              " 'Walking Dead: Michonne',\n",
              " 'Walking Dead: Season Two',\n",
              " 'Walking Dead: The Final Season',\n",
              " 'Wario Land 4',\n",
              " 'Wario Land: Shake It',\n",
              " 'Wario World',\n",
              " 'Wario: Master of Disguise',\n",
              " \"Who's Your Daddy?!\",\n",
              " \"Wilmot's Warehouse\",\n",
              " 'Wings of Vi',\n",
              " 'Witcher 2: Assassin of Kings Enhanced Edition',\n",
              " 'Witcher 3: Wild Hunt',\n",
              " 'Witcher: Enhanced Edition',\n",
              " 'Witness',\n",
              " 'Wonder Boy III: Monster Lair',\n",
              " 'Wonder Boy in Monster World',\n",
              " 'World of Final Fantasy',\n",
              " 'XCOM: Enemy Unknown',\n",
              " \"Yoku's Island Express\",\n",
              " 'Yooka-Laylee and the Impossible Lair',\n",
              " \"Yoshi's Island: Super Mario Advance 3\",\n",
              " \"Yoshi's Story\",\n",
              " \"Yoshi's Woolly World\"]"
            ]
          },
          "metadata": {},
          "execution_count": 890
        }
      ]
    },
    {
      "cell_type": "code",
      "source": [
        "len(juegos_faltantes)"
      ],
      "metadata": {
        "colab": {
          "base_uri": "https://localhost:8080/"
        },
        "id": "FO1eCZVAJKi0",
        "outputId": "9d2dd5db-d761-41f5-c87e-4a2a44c3723c"
      },
      "execution_count": null,
      "outputs": [
        {
          "output_type": "execute_result",
          "data": {
            "text/plain": [
              "565"
            ]
          },
          "metadata": {},
          "execution_count": 891
        }
      ]
    },
    {
      "cell_type": "code",
      "source": [
        "avance[\"Subgenre\"].unique()"
      ],
      "metadata": {
        "colab": {
          "base_uri": "https://localhost:8080/"
        },
        "id": "P5fPqM6BuCNu",
        "outputId": "d6328563-21d2-469c-8d68-c58a63569530"
      },
      "execution_count": null,
      "outputs": [
        {
          "output_type": "execute_result",
          "data": {
            "text/plain": [
              "array(['Logic Game', 'Action-Adventure', 'Action-Platformer', 'Puzzle',\n",
              "       '3D Platformer', 'Metroidvania', 'Idle', 'JRPG', 'Casual',\n",
              "       'Interactive Movie', 'Point-and-Click', 'FPS', 'Adventure', 'Maze',\n",
              "       'Typing Game', 'Graphic Adventure', 'Board Game', 'Monster Taming',\n",
              "       'Action RPG', '2D Platformer', 'Management', \"Beat 'em Up\", 'RPG',\n",
              "       'Text Adventure', 'Rhythm', \"Shoot 'em Up\", 'Augmented Reality',\n",
              "       'Tile-Based', 'Team', 'Racing', 'Rail', 'Educational', 'Fighting',\n",
              "       'MOBA', 'Card Game', 'Sandbox', 'Metroidvania (FP)', 'Various',\n",
              "       'Survival Horror', 'Party Game'], dtype=object)"
            ]
          },
          "metadata": {},
          "execution_count": 892
        }
      ]
    },
    {
      "cell_type": "code",
      "source": [
        "avance[\"Subgenre\"].nunique()"
      ],
      "metadata": {
        "colab": {
          "base_uri": "https://localhost:8080/"
        },
        "id": "OQizc4blwUFE",
        "outputId": "38050485-a09a-4f24-adf4-65e85d2d6e80"
      },
      "execution_count": null,
      "outputs": [
        {
          "output_type": "execute_result",
          "data": {
            "text/plain": [
              "40"
            ]
          },
          "metadata": {},
          "execution_count": 893
        }
      ]
    },
    {
      "cell_type": "code",
      "source": [
        "subgeneros_contados =  avance['Subgenre'].value_counts()\n",
        "subgeneros_contados"
      ],
      "metadata": {
        "colab": {
          "base_uri": "https://localhost:8080/"
        },
        "id": "Iobz1hIRc7VX",
        "outputId": "1693b553-8955-4612-f5be-0e97f0a31f6e"
      },
      "execution_count": null,
      "outputs": [
        {
          "output_type": "execute_result",
          "data": {
            "text/plain": [
              "Logic Game           18\n",
              "Metroidvania         17\n",
              "3D Platformer        10\n",
              "Action-Adventure      9\n",
              "Monster Taming        8\n",
              "Casual                7\n",
              "Action RPG            7\n",
              "Puzzle                6\n",
              "Action-Platformer     6\n",
              "FPS                   5\n",
              "2D Platformer         5\n",
              "JRPG                  4\n",
              "Point-and-Click       4\n",
              "Adventure             4\n",
              "Text Adventure        3\n",
              "RPG                   3\n",
              "Rhythm                3\n",
              "Fighting              2\n",
              "Typing Game           2\n",
              "Graphic Adventure     2\n",
              "Maze                  2\n",
              "Educational           2\n",
              "Metroidvania (FP)     1\n",
              "Sandbox               1\n",
              "Rail                  1\n",
              "Various               1\n",
              "Card Game             1\n",
              "MOBA                  1\n",
              "Survival Horror       1\n",
              "Management            1\n",
              "Racing                1\n",
              "Team                  1\n",
              "Tile-Based            1\n",
              "Augmented Reality     1\n",
              "Shoot 'em Up          1\n",
              "Beat 'em Up           1\n",
              "Board Game            1\n",
              "Interactive Movie     1\n",
              "Idle                  1\n",
              "Party Game            1\n",
              "Name: Subgenre, dtype: int64"
            ]
          },
          "metadata": {},
          "execution_count": 894
        }
      ]
    },
    {
      "cell_type": "markdown",
      "source": [
        "De la lista anterior, quitamos todos los valores que se repiten al no permitir encontrar una inclinación hacia un subgénero. Además, ninguno se encuentra dentro del top 5."
      ],
      "metadata": {
        "id": "d8qiDXE-ha0E"
      }
    },
    {
      "cell_type": "code",
      "source": [
        "top_sub = subgeneros_contados.head(5)\n",
        "top_sub.plot.bar()\n",
        "plt.xlabel('Subgéneros')\n",
        "plt.ylabel('Frecuencia')\n",
        "plt.title(\"Frecuencia de top 5 subgéneros\")\n",
        "plt.show()"
      ],
      "metadata": {
        "colab": {
          "base_uri": "https://localhost:8080/",
          "height": 579
        },
        "id": "-XVVyrtMhu81",
        "outputId": "ccc0f947-c00f-4391-a1ed-0f91ad08dc11"
      },
      "execution_count": null,
      "outputs": [
        {
          "output_type": "display_data",
          "data": {
            "text/plain": [
              "<Figure size 640x480 with 1 Axes>"
            ],
            "image/png": "[encoded data removed]"
          },
          "metadata": {}
        }
      ]
    },
    {
      "cell_type": "markdown",
      "source": [
        "De la gráfica anterior, se visualiza que el subgénero logic game es el que muestra más recurrencia dentro de la lista de juegos jugados, por lo que sería conveniente recomendar de este mismo."
      ],
      "metadata": {
        "id": "dqob_bFwTU_2"
      }
    },
    {
      "cell_type": "code",
      "source": [
        "type(subgeneros_contados)\n"
      ],
      "metadata": {
        "colab": {
          "base_uri": "https://localhost:8080/"
        },
        "id": "U-xMsuaseFPk",
        "outputId": "54bd7c4d-6946-477f-fdb9-6ebcdeaa468a"
      },
      "execution_count": null,
      "outputs": [
        {
          "output_type": "execute_result",
          "data": {
            "text/plain": [
              "pandas.core.series.Series"
            ]
          },
          "metadata": {},
          "execution_count": 896
        }
      ]
    },
    {
      "cell_type": "markdown",
      "source": [
        "Ahora que conozco el género y subgénero con mayor presencia, buscaré en la lista aquellos juegos que sean puzzles de logic game."
      ],
      "metadata": {
        "id": "dsAN6U9_4WaJ"
      }
    },
    {
      "cell_type": "code",
      "source": [
        "nojugados = pd.read_excel(\"avance.xlsx\", sheet_name=1)\n",
        "nojugados"
      ],
      "metadata": {
        "colab": {
          "base_uri": "https://localhost:8080/",
          "height": 424
        },
        "id": "niibC5LIzYUP",
        "outputId": "2b2a4679-ec00-465d-e2d7-89928dcf9c6f"
      },
      "execution_count": null,
      "outputs": [
        {
          "output_type": "execute_result",
          "data": {
            "text/plain": [
              "                                      Game             Genre  \\\n",
              "0                                     2048            Puzzle   \n",
              "1                                1000 Amps            Puzzle   \n",
              "2               3D Retro Dungeon Challenge  Action-Adventure   \n",
              "3                                   3Souls         Adventure   \n",
              "4                                 40 Winks        Platformer   \n",
              "..                                     ...               ...   \n",
              "559                  Yoku's Island Express        Platformer   \n",
              "560   Yooka-Laylee and the Impossible Lair        Platformer   \n",
              "561  Yoshi's Island: Super Mario Advance 3        Platformer   \n",
              "562                          Yoshi's Story        Platformer   \n",
              "563                   Yoshi's Woolly World        Platformer   \n",
              "\n",
              "             Subgenre  Main   1   %  \n",
              "0          Logic Game   1.0 NaN NaN  \n",
              "1    Action-Adventure   4.0 NaN NaN  \n",
              "2                 NaN   NaN NaN NaN  \n",
              "3                 NaN   NaN NaN NaN  \n",
              "4                 NaN   NaN NaN NaN  \n",
              "..                ...   ...  ..  ..  \n",
              "559               NaN   NaN NaN NaN  \n",
              "560               NaN   NaN NaN NaN  \n",
              "561               NaN   NaN NaN NaN  \n",
              "562               NaN   NaN NaN NaN  \n",
              "563               NaN   NaN NaN NaN  \n",
              "\n",
              "[564 rows x 6 columns]"
            ],
            "text/html": [
              "\n",
              "  <div id=\"df-9985db39-d3c7-451a-9183-bb1766120914\">\n",
              "    <div class=\"colab-df-container\">\n",
              "      <div>\n",
              "<style scoped>\n",
              "    .dataframe tbody tr th:only-of-type {\n",
              "        vertical-align: middle;\n",
              "    }\n",
              "\n",
              "    .dataframe tbody tr th {\n",
              "        vertical-align: top;\n",
              "    }\n",
              "\n",
              "    .dataframe thead th {\n",
              "        text-align: right;\n",
              "    }\n",
              "</style>\n",
              "<table border=\"1\" class=\"dataframe\">\n",
              "  <thead>\n",
              "    <tr style=\"text-align: right;\">\n",
              "      <th></th>\n",
              "      <th>Game</th>\n",
              "      <th>Genre</th>\n",
              "      <th>Subgenre</th>\n",
              "      <th>Main</th>\n",
              "      <th>1</th>\n",
              "      <th>%</th>\n",
              "    </tr>\n",
              "  </thead>\n",
              "  <tbody>\n",
              "    <tr>\n",
              "      <th>0</th>\n",
              "      <td>2048</td>\n",
              "      <td>Puzzle</td>\n",
              "      <td>Logic Game</td>\n",
              "      <td>1.0</td>\n",
              "      <td>NaN</td>\n",
              "      <td>NaN</td>\n",
              "    </tr>\n",
              "    <tr>\n",
              "      <th>1</th>\n",
              "      <td>1000 Amps</td>\n",
              "      <td>Puzzle</td>\n",
              "      <td>Action-Adventure</td>\n",
              "      <td>4.0</td>\n",
              "      <td>NaN</td>\n",
              "      <td>NaN</td>\n",
              "    </tr>\n",
              "    <tr>\n",
              "      <th>2</th>\n",
              "      <td>3D Retro Dungeon Challenge</td>\n",
              "      <td>Action-Adventure</td>\n",
              "      <td>NaN</td>\n",
              "      <td>NaN</td>\n",
              "      <td>NaN</td>\n",
              "      <td>NaN</td>\n",
              "    </tr>\n",
              "    <tr>\n",
              "      <th>3</th>\n",
              "      <td>3Souls</td>\n",
              "      <td>Adventure</td>\n",
              "      <td>NaN</td>\n",
              "      <td>NaN</td>\n",
              "      <td>NaN</td>\n",
              "      <td>NaN</td>\n",
              "    </tr>\n",
              "    <tr>\n",
              "      <th>4</th>\n",
              "      <td>40 Winks</td>\n",
              "      <td>Platformer</td>\n",
              "      <td>NaN</td>\n",
              "      <td>NaN</td>\n",
              "      <td>NaN</td>\n",
              "      <td>NaN</td>\n",
              "    </tr>\n",
              "    <tr>\n",
              "      <th>...</th>\n",
              "      <td>...</td>\n",
              "      <td>...</td>\n",
              "      <td>...</td>\n",
              "      <td>...</td>\n",
              "      <td>...</td>\n",
              "      <td>...</td>\n",
              "    </tr>\n",
              "    <tr>\n",
              "      <th>559</th>\n",
              "      <td>Yoku's Island Express</td>\n",
              "      <td>Platformer</td>\n",
              "      <td>NaN</td>\n",
              "      <td>NaN</td>\n",
              "      <td>NaN</td>\n",
              "      <td>NaN</td>\n",
              "    </tr>\n",
              "    <tr>\n",
              "      <th>560</th>\n",
              "      <td>Yooka-Laylee and the Impossible Lair</td>\n",
              "      <td>Platformer</td>\n",
              "      <td>NaN</td>\n",
              "      <td>NaN</td>\n",
              "      <td>NaN</td>\n",
              "      <td>NaN</td>\n",
              "    </tr>\n",
              "    <tr>\n",
              "      <th>561</th>\n",
              "      <td>Yoshi's Island: Super Mario Advance 3</td>\n",
              "      <td>Platformer</td>\n",
              "      <td>NaN</td>\n",
              "      <td>NaN</td>\n",
              "      <td>NaN</td>\n",
              "      <td>NaN</td>\n",
              "    </tr>\n",
              "    <tr>\n",
              "      <th>562</th>\n",
              "      <td>Yoshi's Story</td>\n",
              "      <td>Platformer</td>\n",
              "      <td>NaN</td>\n",
              "      <td>NaN</td>\n",
              "      <td>NaN</td>\n",
              "      <td>NaN</td>\n",
              "    </tr>\n",
              "    <tr>\n",
              "      <th>563</th>\n",
              "      <td>Yoshi's Woolly World</td>\n",
              "      <td>Platformer</td>\n",
              "      <td>NaN</td>\n",
              "      <td>NaN</td>\n",
              "      <td>NaN</td>\n",
              "      <td>NaN</td>\n",
              "    </tr>\n",
              "  </tbody>\n",
              "</table>\n",
              "<p>564 rows × 6 columns</p>\n",
              "</div>\n",
              "      <button class=\"colab-df-convert\" onclick=\"convertToInteractive('df-9985db39-d3c7-451a-9183-bb1766120914')\"\n",
              "              title=\"Convert this dataframe to an interactive table.\"\n",
              "              style=\"display:none;\">\n",
              "        \n",
              "  <svg xmlns=\"http://www.w3.org/2000/svg\" height=\"24px\"viewBox=\"0 0 24 24\"\n",
              "       width=\"24px\">\n",
              "    <path d=\"M0 0h24v24H0V0z\" fill=\"none\"/>\n",
              "    <path d=\"M18.56 5.44l.94 2.06.94-2.06 2.06-.94-2.06-.94-.94-2.06-.94 2.06-2.06.94zm-11 1L8.5 8.5l.94-2.06 2.06-.94-2.06-.94L8.5 2.5l-.94 2.06-2.06.94zm10 10l.94 2.06.94-2.06 2.06-.94-2.06-.94-.94-2.06-.94 2.06-2.06.94z\"/><path d=\"M17.41 7.96l-1.37-1.37c-.4-.4-.92-.59-1.43-.59-.52 0-1.04.2-1.43.59L10.3 9.45l-7.72 7.72c-.78.78-.78 2.05 0 2.83L4 21.41c.39.39.9.59 1.41.59.51 0 1.02-.2 1.41-.59l7.78-7.78 2.81-2.81c.8-.78.8-2.07 0-2.86zM5.41 20L4 18.59l7.72-7.72 1.47 1.35L5.41 20z\"/>\n",
              "  </svg>\n",
              "      </button>\n",
              "      \n",
              "  <style>\n",
              "    .colab-df-container {\n",
              "      display:flex;\n",
              "      flex-wrap:wrap;\n",
              "      gap: 12px;\n",
              "    }\n",
              "\n",
              "    .colab-df-convert {\n",
              "      background-color: #E8F0FE;\n",
              "      border: none;\n",
              "      border-radius: 50%;\n",
              "      cursor: pointer;\n",
              "      display: none;\n",
              "      fill: #1967D2;\n",
              "      height: 32px;\n",
              "      padding: 0 0 0 0;\n",
              "      width: 32px;\n",
              "    }\n",
              "\n",
              "    .colab-df-convert:hover {\n",
              "      background-color: #E2EBFA;\n",
              "      box-shadow: 0px 1px 2px rgba(60, 64, 67, 0.3), 0px 1px 3px 1px rgba(60, 64, 67, 0.15);\n",
              "      fill: #174EA6;\n",
              "    }\n",
              "\n",
              "    [theme=dark] .colab-df-convert {\n",
              "      background-color: #3B4455;\n",
              "      fill: #D2E3FC;\n",
              "    }\n",
              "\n",
              "    [theme=dark] .colab-df-convert:hover {\n",
              "      background-color: #434B5C;\n",
              "      box-shadow: 0px 1px 3px 1px rgba(0, 0, 0, 0.15);\n",
              "      filter: drop-shadow(0px 1px 2px rgba(0, 0, 0, 0.3));\n",
              "      fill: #FFFFFF;\n",
              "    }\n",
              "  </style>\n",
              "\n",
              "      <script>\n",
              "        const buttonEl =\n",
              "          document.querySelector('#df-9985db39-d3c7-451a-9183-bb1766120914 button.colab-df-convert');\n",
              "        buttonEl.style.display =\n",
              "          google.colab.kernel.accessAllowed ? 'block' : 'none';\n",
              "\n",
              "        async function convertToInteractive(key) {\n",
              "          const element = document.querySelector('#df-9985db39-d3c7-451a-9183-bb1766120914');\n",
              "          const dataTable =\n",
              "            await google.colab.kernel.invokeFunction('convertToInteractive',\n",
              "                                                     [key], {});\n",
              "          if (!dataTable) return;\n",
              "\n",
              "          const docLinkHtml = 'Like what you see? Visit the ' +\n",
              "            '<a target=\"_blank\" href=https://colab.research.google.com/notebooks/data_table.ipynb>data table notebook</a>'\n",
              "            + ' to learn more about interactive tables.';\n",
              "          element.innerHTML = '';\n",
              "          dataTable['output_type'] = 'display_data';\n",
              "          await google.colab.output.renderOutput(dataTable, element);\n",
              "          const docLink = document.createElement('div');\n",
              "          docLink.innerHTML = docLinkHtml;\n",
              "          element.appendChild(docLink);\n",
              "        }\n",
              "      </script>\n",
              "    </div>\n",
              "  </div>\n",
              "  "
            ]
          },
          "metadata": {},
          "execution_count": 897
        }
      ]
    },
    {
      "cell_type": "code",
      "source": [
        "conteo_nojugados = nojugados[\"Genre\"].value_counts()\n",
        "conteo_nojugados"
      ],
      "metadata": {
        "colab": {
          "base_uri": "https://localhost:8080/"
        },
        "id": "EbO5EDmwzxUN",
        "outputId": "1e52c7a6-65d9-464d-9709-0f2b1d0e28b6"
      },
      "execution_count": null,
      "outputs": [
        {
          "output_type": "execute_result",
          "data": {
            "text/plain": [
              "Platformer           118\n",
              "Role-Playing Game     90\n",
              "Action-Adventure      88\n",
              "Puzzle                70\n",
              "Shooter               57\n",
              "Adventure             41\n",
              "Action                30\n",
              "Various               24\n",
              "Roguelike             13\n",
              "Arcade                12\n",
              "Simulation            10\n",
              "Sport Game             6\n",
              "Strategy               4\n",
              "Idle                   1\n",
              "Name: Genre, dtype: int64"
            ]
          },
          "metadata": {},
          "execution_count": 898
        }
      ]
    },
    {
      "cell_type": "code",
      "source": [
        "puzzles_nojugados = nojugados[nojugados[\"Genre\"] == \"Puzzle\"]\n",
        "puzzles_nojugados"
      ],
      "metadata": {
        "colab": {
          "base_uri": "https://localhost:8080/",
          "height": 424
        },
        "id": "Js7sdBwP34nm",
        "outputId": "15eddb7a-c7ca-4f45-ddca-a780964e2bb2"
      },
      "execution_count": null,
      "outputs": [
        {
          "output_type": "execute_result",
          "data": {
            "text/plain": [
              "                                Game   Genre           Subgenre  Main   1   %\n",
              "0                               2048  Puzzle         Logic Game   1.0 NaN NaN\n",
              "1                          1000 Amps  Puzzle   Action-Adventure   4.0 NaN NaN\n",
              "22                       Antichamber  Puzzle          Adventure   8.0 NaN NaN\n",
              "26                         Attractio  Puzzle  Action-Platformer   8.0 NaN NaN\n",
              "29                       Baba is You  Puzzle         Logic Game  10.0 NaN NaN\n",
              "..                               ...     ...                ...   ...  ..  ..\n",
              "524  Trine 3: The Artifacts of Power  Puzzle         Platformer  11.0 NaN NaN\n",
              "525    Trine 4: The Nightmare Prince  Puzzle         Platformer  11.0 NaN NaN\n",
              "539                      Waking Mars  Puzzle          Adventure   9.0 NaN NaN\n",
              "549               Wilmot's Warehouse  Puzzle         Management   4.0 NaN NaN\n",
              "554                          Witness  Puzzle       First-Person  22.5 NaN NaN\n",
              "\n",
              "[70 rows x 6 columns]"
            ],
            "text/html": [
              "\n",
              "  <div id=\"df-343ace0f-02f0-493d-9337-610ac1a62d6e\">\n",
              "    <div class=\"colab-df-container\">\n",
              "      <div>\n",
              "<style scoped>\n",
              "    .dataframe tbody tr th:only-of-type {\n",
              "        vertical-align: middle;\n",
              "    }\n",
              "\n",
              "    .dataframe tbody tr th {\n",
              "        vertical-align: top;\n",
              "    }\n",
              "\n",
              "    .dataframe thead th {\n",
              "        text-align: right;\n",
              "    }\n",
              "</style>\n",
              "<table border=\"1\" class=\"dataframe\">\n",
              "  <thead>\n",
              "    <tr style=\"text-align: right;\">\n",
              "      <th></th>\n",
              "      <th>Game</th>\n",
              "      <th>Genre</th>\n",
              "      <th>Subgenre</th>\n",
              "      <th>Main</th>\n",
              "      <th>1</th>\n",
              "      <th>%</th>\n",
              "    </tr>\n",
              "  </thead>\n",
              "  <tbody>\n",
              "    <tr>\n",
              "      <th>0</th>\n",
              "      <td>2048</td>\n",
              "      <td>Puzzle</td>\n",
              "      <td>Logic Game</td>\n",
              "      <td>1.0</td>\n",
              "      <td>NaN</td>\n",
              "      <td>NaN</td>\n",
              "    </tr>\n",
              "    <tr>\n",
              "      <th>1</th>\n",
              "      <td>1000 Amps</td>\n",
              "      <td>Puzzle</td>\n",
              "      <td>Action-Adventure</td>\n",
              "      <td>4.0</td>\n",
              "      <td>NaN</td>\n",
              "      <td>NaN</td>\n",
              "    </tr>\n",
              "    <tr>\n",
              "      <th>22</th>\n",
              "      <td>Antichamber</td>\n",
              "      <td>Puzzle</td>\n",
              "      <td>Adventure</td>\n",
              "      <td>8.0</td>\n",
              "      <td>NaN</td>\n",
              "      <td>NaN</td>\n",
              "    </tr>\n",
              "    <tr>\n",
              "      <th>26</th>\n",
              "      <td>Attractio</td>\n",
              "      <td>Puzzle</td>\n",
              "      <td>Action-Platformer</td>\n",
              "      <td>8.0</td>\n",
              "      <td>NaN</td>\n",
              "      <td>NaN</td>\n",
              "    </tr>\n",
              "    <tr>\n",
              "      <th>29</th>\n",
              "      <td>Baba is You</td>\n",
              "      <td>Puzzle</td>\n",
              "      <td>Logic Game</td>\n",
              "      <td>10.0</td>\n",
              "      <td>NaN</td>\n",
              "      <td>NaN</td>\n",
              "    </tr>\n",
              "    <tr>\n",
              "      <th>...</th>\n",
              "      <td>...</td>\n",
              "      <td>...</td>\n",
              "      <td>...</td>\n",
              "      <td>...</td>\n",
              "      <td>...</td>\n",
              "      <td>...</td>\n",
              "    </tr>\n",
              "    <tr>\n",
              "      <th>524</th>\n",
              "      <td>Trine 3: The Artifacts of Power</td>\n",
              "      <td>Puzzle</td>\n",
              "      <td>Platformer</td>\n",
              "      <td>11.0</td>\n",
              "      <td>NaN</td>\n",
              "      <td>NaN</td>\n",
              "    </tr>\n",
              "    <tr>\n",
              "      <th>525</th>\n",
              "      <td>Trine 4: The Nightmare Prince</td>\n",
              "      <td>Puzzle</td>\n",
              "      <td>Platformer</td>\n",
              "      <td>11.0</td>\n",
              "      <td>NaN</td>\n",
              "      <td>NaN</td>\n",
              "    </tr>\n",
              "    <tr>\n",
              "      <th>539</th>\n",
              "      <td>Waking Mars</td>\n",
              "      <td>Puzzle</td>\n",
              "      <td>Adventure</td>\n",
              "      <td>9.0</td>\n",
              "      <td>NaN</td>\n",
              "      <td>NaN</td>\n",
              "    </tr>\n",
              "    <tr>\n",
              "      <th>549</th>\n",
              "      <td>Wilmot's Warehouse</td>\n",
              "      <td>Puzzle</td>\n",
              "      <td>Management</td>\n",
              "      <td>4.0</td>\n",
              "      <td>NaN</td>\n",
              "      <td>NaN</td>\n",
              "    </tr>\n",
              "    <tr>\n",
              "      <th>554</th>\n",
              "      <td>Witness</td>\n",
              "      <td>Puzzle</td>\n",
              "      <td>First-Person</td>\n",
              "      <td>22.5</td>\n",
              "      <td>NaN</td>\n",
              "      <td>NaN</td>\n",
              "    </tr>\n",
              "  </tbody>\n",
              "</table>\n",
              "<p>70 rows × 6 columns</p>\n",
              "</div>\n",
              "      <button class=\"colab-df-convert\" onclick=\"convertToInteractive('df-343ace0f-02f0-493d-9337-610ac1a62d6e')\"\n",
              "              title=\"Convert this dataframe to an interactive table.\"\n",
              "              style=\"display:none;\">\n",
              "        \n",
              "  <svg xmlns=\"http://www.w3.org/2000/svg\" height=\"24px\"viewBox=\"0 0 24 24\"\n",
              "       width=\"24px\">\n",
              "    <path d=\"M0 0h24v24H0V0z\" fill=\"none\"/>\n",
              "    <path d=\"M18.56 5.44l.94 2.06.94-2.06 2.06-.94-2.06-.94-.94-2.06-.94 2.06-2.06.94zm-11 1L8.5 8.5l.94-2.06 2.06-.94-2.06-.94L8.5 2.5l-.94 2.06-2.06.94zm10 10l.94 2.06.94-2.06 2.06-.94-2.06-.94-.94-2.06-.94 2.06-2.06.94z\"/><path d=\"M17.41 7.96l-1.37-1.37c-.4-.4-.92-.59-1.43-.59-.52 0-1.04.2-1.43.59L10.3 9.45l-7.72 7.72c-.78.78-.78 2.05 0 2.83L4 21.41c.39.39.9.59 1.41.59.51 0 1.02-.2 1.41-.59l7.78-7.78 2.81-2.81c.8-.78.8-2.07 0-2.86zM5.41 20L4 18.59l7.72-7.72 1.47 1.35L5.41 20z\"/>\n",
              "  </svg>\n",
              "      </button>\n",
              "      \n",
              "  <style>\n",
              "    .colab-df-container {\n",
              "      display:flex;\n",
              "      flex-wrap:wrap;\n",
              "      gap: 12px;\n",
              "    }\n",
              "\n",
              "    .colab-df-convert {\n",
              "      background-color: #E8F0FE;\n",
              "      border: none;\n",
              "      border-radius: 50%;\n",
              "      cursor: pointer;\n",
              "      display: none;\n",
              "      fill: #1967D2;\n",
              "      height: 32px;\n",
              "      padding: 0 0 0 0;\n",
              "      width: 32px;\n",
              "    }\n",
              "\n",
              "    .colab-df-convert:hover {\n",
              "      background-color: #E2EBFA;\n",
              "      box-shadow: 0px 1px 2px rgba(60, 64, 67, 0.3), 0px 1px 3px 1px rgba(60, 64, 67, 0.15);\n",
              "      fill: #174EA6;\n",
              "    }\n",
              "\n",
              "    [theme=dark] .colab-df-convert {\n",
              "      background-color: #3B4455;\n",
              "      fill: #D2E3FC;\n",
              "    }\n",
              "\n",
              "    [theme=dark] .colab-df-convert:hover {\n",
              "      background-color: #434B5C;\n",
              "      box-shadow: 0px 1px 3px 1px rgba(0, 0, 0, 0.15);\n",
              "      filter: drop-shadow(0px 1px 2px rgba(0, 0, 0, 0.3));\n",
              "      fill: #FFFFFF;\n",
              "    }\n",
              "  </style>\n",
              "\n",
              "      <script>\n",
              "        const buttonEl =\n",
              "          document.querySelector('#df-343ace0f-02f0-493d-9337-610ac1a62d6e button.colab-df-convert');\n",
              "        buttonEl.style.display =\n",
              "          google.colab.kernel.accessAllowed ? 'block' : 'none';\n",
              "\n",
              "        async function convertToInteractive(key) {\n",
              "          const element = document.querySelector('#df-343ace0f-02f0-493d-9337-610ac1a62d6e');\n",
              "          const dataTable =\n",
              "            await google.colab.kernel.invokeFunction('convertToInteractive',\n",
              "                                                     [key], {});\n",
              "          if (!dataTable) return;\n",
              "\n",
              "          const docLinkHtml = 'Like what you see? Visit the ' +\n",
              "            '<a target=\"_blank\" href=https://colab.research.google.com/notebooks/data_table.ipynb>data table notebook</a>'\n",
              "            + ' to learn more about interactive tables.';\n",
              "          element.innerHTML = '';\n",
              "          dataTable['output_type'] = 'display_data';\n",
              "          await google.colab.output.renderOutput(dataTable, element);\n",
              "          const docLink = document.createElement('div');\n",
              "          docLink.innerHTML = docLinkHtml;\n",
              "          element.appendChild(docLink);\n",
              "        }\n",
              "      </script>\n",
              "    </div>\n",
              "  </div>\n",
              "  "
            ]
          },
          "metadata": {},
          "execution_count": 899
        }
      ]
    },
    {
      "cell_type": "code",
      "source": [
        "puzzles = puzzles_nojugados.iloc[:,puzzles_nojugados.columns.get_loc(\"Game\")]\n",
        "puzzles"
      ],
      "metadata": {
        "colab": {
          "base_uri": "https://localhost:8080/"
        },
        "id": "KV1Mgy6F4PGv",
        "outputId": "e2030943-02b5-4f96-af04-adcfe0169d4a"
      },
      "execution_count": null,
      "outputs": [
        {
          "output_type": "execute_result",
          "data": {
            "text/plain": [
              "0                                 2048\n",
              "1                            1000 Amps\n",
              "22                         Antichamber\n",
              "26                           Attractio\n",
              "29                         Baba is You\n",
              "                    ...               \n",
              "524    Trine 3: The Artifacts of Power\n",
              "525      Trine 4: The Nightmare Prince\n",
              "539                        Waking Mars\n",
              "549                 Wilmot's Warehouse\n",
              "554                            Witness\n",
              "Name: Game, Length: 70, dtype: object"
            ]
          },
          "metadata": {},
          "execution_count": 900
        }
      ]
    },
    {
      "cell_type": "code",
      "source": [
        "puzzles.tolist()"
      ],
      "metadata": {
        "colab": {
          "base_uri": "https://localhost:8080/"
        },
        "id": "xjkTXVdT5FEq",
        "outputId": "272852f7-35cb-4408-e818-a1fd2f1eb446"
      },
      "execution_count": null,
      "outputs": [
        {
          "output_type": "execute_result",
          "data": {
            "text/plain": [
              "[2048,\n",
              " '1000 Amps',\n",
              " 'Antichamber',\n",
              " 'Attractio',\n",
              " 'Baba is You',\n",
              " 'Biped',\n",
              " 'Block-a-Pix Color',\n",
              " 'Box Box Boy!',\n",
              " 'Box Boy!',\n",
              " 'Braid',\n",
              " 'Bye-Bye Box Boy!',\n",
              " \"Chip's Challenge 2\",\n",
              " 'Columns',\n",
              " 'Columns III: Revenge of Columns',\n",
              " 'Cube Escape Collection',\n",
              " \"Dr. Robotnik's Mean Bean Machine\",\n",
              " 'Escape Goat',\n",
              " 'Escape Goat 2',\n",
              " 'Fluidity: Spin Cycle',\n",
              " 'Gateways',\n",
              " 'Griddlers Katana',\n",
              " 'Hexceed',\n",
              " 'Hexcells Infinite',\n",
              " 'INSIDE',\n",
              " 'Linelight',\n",
              " 'Lingotopia',\n",
              " 'Link-a-Pix Color',\n",
              " 'Mario Picross',\n",
              " \"Monster's Expedition\",\n",
              " 'Papers, Please',\n",
              " \"Phil's Epic Fill-a-Pix Adventure\",\n",
              " 'Pic-a-Pix Color',\n",
              " 'Picross e',\n",
              " 'Picross e2',\n",
              " 'Picross e3',\n",
              " 'Picross e4',\n",
              " 'Picross e5',\n",
              " 'Picross e6',\n",
              " 'Picross e7',\n",
              " 'Picross e8',\n",
              " 'Pikmin',\n",
              " 'Pikmin 2',\n",
              " 'Pikmin 3',\n",
              " 'Pókemon Puzzle Challenge',\n",
              " 'Pony Island',\n",
              " 'Puyo Puyo Tetris',\n",
              " 'Puzzle Agent 2',\n",
              " 'Quantum Conundrum',\n",
              " 'REalM: Walk of Soul',\n",
              " 'Room Three',\n",
              " 'Room Two',\n",
              " 'Scribblenauts Unlimited',\n",
              " 'Sexy Brutale',\n",
              " 'Snake Pass',\n",
              " 'SOK PRO',\n",
              " 'Sokoban (Boxman) Classic',\n",
              " 'Sokobond',\n",
              " 'Spooky Ghost Dot Com',\n",
              " 'Superliminal',\n",
              " 'Swapper',\n",
              " 'Teslagrad',\n",
              " 'Thomas Was Alone',\n",
              " 'Tricky Towers',\n",
              " 'Trine',\n",
              " 'Trine 2',\n",
              " 'Trine 3: The Artifacts of Power',\n",
              " 'Trine 4: The Nightmare Prince',\n",
              " 'Waking Mars',\n",
              " \"Wilmot's Warehouse\",\n",
              " 'Witness']"
            ]
          },
          "metadata": {},
          "execution_count": 901
        }
      ]
    },
    {
      "cell_type": "code",
      "source": [
        "logic = puzzles_nojugados.loc[puzzles_nojugados[\"Subgenre\"] == \"Logic Game\"]\n",
        "logic"
      ],
      "metadata": {
        "colab": {
          "base_uri": "https://localhost:8080/",
          "height": 112
        },
        "id": "gk3r7eVXTpIQ",
        "outputId": "9ee10727-97db-4082-d885-49ed8ffe4351"
      },
      "execution_count": null,
      "outputs": [
        {
          "output_type": "execute_result",
          "data": {
            "text/plain": [
              "           Game   Genre    Subgenre  Main   1   %\n",
              "0          2048  Puzzle  Logic Game   1.0 NaN NaN\n",
              "29  Baba is You  Puzzle  Logic Game  10.0 NaN NaN"
            ],
            "text/html": [
              "\n",
              "  <div id=\"df-eb8b7292-bab7-45a7-926a-e952e199d2ec\">\n",
              "    <div class=\"colab-df-container\">\n",
              "      <div>\n",
              "<style scoped>\n",
              "    .dataframe tbody tr th:only-of-type {\n",
              "        vertical-align: middle;\n",
              "    }\n",
              "\n",
              "    .dataframe tbody tr th {\n",
              "        vertical-align: top;\n",
              "    }\n",
              "\n",
              "    .dataframe thead th {\n",
              "        text-align: right;\n",
              "    }\n",
              "</style>\n",
              "<table border=\"1\" class=\"dataframe\">\n",
              "  <thead>\n",
              "    <tr style=\"text-align: right;\">\n",
              "      <th></th>\n",
              "      <th>Game</th>\n",
              "      <th>Genre</th>\n",
              "      <th>Subgenre</th>\n",
              "      <th>Main</th>\n",
              "      <th>1</th>\n",
              "      <th>%</th>\n",
              "    </tr>\n",
              "  </thead>\n",
              "  <tbody>\n",
              "    <tr>\n",
              "      <th>0</th>\n",
              "      <td>2048</td>\n",
              "      <td>Puzzle</td>\n",
              "      <td>Logic Game</td>\n",
              "      <td>1.0</td>\n",
              "      <td>NaN</td>\n",
              "      <td>NaN</td>\n",
              "    </tr>\n",
              "    <tr>\n",
              "      <th>29</th>\n",
              "      <td>Baba is You</td>\n",
              "      <td>Puzzle</td>\n",
              "      <td>Logic Game</td>\n",
              "      <td>10.0</td>\n",
              "      <td>NaN</td>\n",
              "      <td>NaN</td>\n",
              "    </tr>\n",
              "  </tbody>\n",
              "</table>\n",
              "</div>\n",
              "      <button class=\"colab-df-convert\" onclick=\"convertToInteractive('df-eb8b7292-bab7-45a7-926a-e952e199d2ec')\"\n",
              "              title=\"Convert this dataframe to an interactive table.\"\n",
              "              style=\"display:none;\">\n",
              "        \n",
              "  <svg xmlns=\"http://www.w3.org/2000/svg\" height=\"24px\"viewBox=\"0 0 24 24\"\n",
              "       width=\"24px\">\n",
              "    <path d=\"M0 0h24v24H0V0z\" fill=\"none\"/>\n",
              "    <path d=\"M18.56 5.44l.94 2.06.94-2.06 2.06-.94-2.06-.94-.94-2.06-.94 2.06-2.06.94zm-11 1L8.5 8.5l.94-2.06 2.06-.94-2.06-.94L8.5 2.5l-.94 2.06-2.06.94zm10 10l.94 2.06.94-2.06 2.06-.94-2.06-.94-.94-2.06-.94 2.06-2.06.94z\"/><path d=\"M17.41 7.96l-1.37-1.37c-.4-.4-.92-.59-1.43-.59-.52 0-1.04.2-1.43.59L10.3 9.45l-7.72 7.72c-.78.78-.78 2.05 0 2.83L4 21.41c.39.39.9.59 1.41.59.51 0 1.02-.2 1.41-.59l7.78-7.78 2.81-2.81c.8-.78.8-2.07 0-2.86zM5.41 20L4 18.59l7.72-7.72 1.47 1.35L5.41 20z\"/>\n",
              "  </svg>\n",
              "      </button>\n",
              "      \n",
              "  <style>\n",
              "    .colab-df-container {\n",
              "      display:flex;\n",
              "      flex-wrap:wrap;\n",
              "      gap: 12px;\n",
              "    }\n",
              "\n",
              "    .colab-df-convert {\n",
              "      background-color: #E8F0FE;\n",
              "      border: none;\n",
              "      border-radius: 50%;\n",
              "      cursor: pointer;\n",
              "      display: none;\n",
              "      fill: #1967D2;\n",
              "      height: 32px;\n",
              "      padding: 0 0 0 0;\n",
              "      width: 32px;\n",
              "    }\n",
              "\n",
              "    .colab-df-convert:hover {\n",
              "      background-color: #E2EBFA;\n",
              "      box-shadow: 0px 1px 2px rgba(60, 64, 67, 0.3), 0px 1px 3px 1px rgba(60, 64, 67, 0.15);\n",
              "      fill: #174EA6;\n",
              "    }\n",
              "\n",
              "    [theme=dark] .colab-df-convert {\n",
              "      background-color: #3B4455;\n",
              "      fill: #D2E3FC;\n",
              "    }\n",
              "\n",
              "    [theme=dark] .colab-df-convert:hover {\n",
              "      background-color: #434B5C;\n",
              "      box-shadow: 0px 1px 3px 1px rgba(0, 0, 0, 0.15);\n",
              "      filter: drop-shadow(0px 1px 2px rgba(0, 0, 0, 0.3));\n",
              "      fill: #FFFFFF;\n",
              "    }\n",
              "  </style>\n",
              "\n",
              "      <script>\n",
              "        const buttonEl =\n",
              "          document.querySelector('#df-eb8b7292-bab7-45a7-926a-e952e199d2ec button.colab-df-convert');\n",
              "        buttonEl.style.display =\n",
              "          google.colab.kernel.accessAllowed ? 'block' : 'none';\n",
              "\n",
              "        async function convertToInteractive(key) {\n",
              "          const element = document.querySelector('#df-eb8b7292-bab7-45a7-926a-e952e199d2ec');\n",
              "          const dataTable =\n",
              "            await google.colab.kernel.invokeFunction('convertToInteractive',\n",
              "                                                     [key], {});\n",
              "          if (!dataTable) return;\n",
              "\n",
              "          const docLinkHtml = 'Like what you see? Visit the ' +\n",
              "            '<a target=\"_blank\" href=https://colab.research.google.com/notebooks/data_table.ipynb>data table notebook</a>'\n",
              "            + ' to learn more about interactive tables.';\n",
              "          element.innerHTML = '';\n",
              "          dataTable['output_type'] = 'display_data';\n",
              "          await google.colab.output.renderOutput(dataTable, element);\n",
              "          const docLink = document.createElement('div');\n",
              "          docLink.innerHTML = docLinkHtml;\n",
              "          element.appendChild(docLink);\n",
              "        }\n",
              "      </script>\n",
              "    </div>\n",
              "  </div>\n",
              "  "
            ]
          },
          "metadata": {},
          "execution_count": 902
        }
      ]
    },
    {
      "cell_type": "code",
      "source": [
        "logic.describe()"
      ],
      "metadata": {
        "colab": {
          "base_uri": "https://localhost:8080/",
          "height": 300
        },
        "id": "nZm86dedUoy4",
        "outputId": "8a0af6c0-26ff-425a-b370-90a0ea9acdbd"
      },
      "execution_count": null,
      "outputs": [
        {
          "output_type": "execute_result",
          "data": {
            "text/plain": [
              "            Main    1    %\n",
              "count   2.000000  0.0  0.0\n",
              "mean    5.500000  NaN  NaN\n",
              "std     6.363961  NaN  NaN\n",
              "min     1.000000  NaN  NaN\n",
              "25%     3.250000  NaN  NaN\n",
              "50%     5.500000  NaN  NaN\n",
              "75%     7.750000  NaN  NaN\n",
              "max    10.000000  NaN  NaN"
            ],
            "text/html": [
              "\n",
              "  <div id=\"df-2015da68-df98-4456-85d7-46f1051dde61\">\n",
              "    <div class=\"colab-df-container\">\n",
              "      <div>\n",
              "<style scoped>\n",
              "    .dataframe tbody tr th:only-of-type {\n",
              "        vertical-align: middle;\n",
              "    }\n",
              "\n",
              "    .dataframe tbody tr th {\n",
              "        vertical-align: top;\n",
              "    }\n",
              "\n",
              "    .dataframe thead th {\n",
              "        text-align: right;\n",
              "    }\n",
              "</style>\n",
              "<table border=\"1\" class=\"dataframe\">\n",
              "  <thead>\n",
              "    <tr style=\"text-align: right;\">\n",
              "      <th></th>\n",
              "      <th>Main</th>\n",
              "      <th>1</th>\n",
              "      <th>%</th>\n",
              "    </tr>\n",
              "  </thead>\n",
              "  <tbody>\n",
              "    <tr>\n",
              "      <th>count</th>\n",
              "      <td>2.000000</td>\n",
              "      <td>0.0</td>\n",
              "      <td>0.0</td>\n",
              "    </tr>\n",
              "    <tr>\n",
              "      <th>mean</th>\n",
              "      <td>5.500000</td>\n",
              "      <td>NaN</td>\n",
              "      <td>NaN</td>\n",
              "    </tr>\n",
              "    <tr>\n",
              "      <th>std</th>\n",
              "      <td>6.363961</td>\n",
              "      <td>NaN</td>\n",
              "      <td>NaN</td>\n",
              "    </tr>\n",
              "    <tr>\n",
              "      <th>min</th>\n",
              "      <td>1.000000</td>\n",
              "      <td>NaN</td>\n",
              "      <td>NaN</td>\n",
              "    </tr>\n",
              "    <tr>\n",
              "      <th>25%</th>\n",
              "      <td>3.250000</td>\n",
              "      <td>NaN</td>\n",
              "      <td>NaN</td>\n",
              "    </tr>\n",
              "    <tr>\n",
              "      <th>50%</th>\n",
              "      <td>5.500000</td>\n",
              "      <td>NaN</td>\n",
              "      <td>NaN</td>\n",
              "    </tr>\n",
              "    <tr>\n",
              "      <th>75%</th>\n",
              "      <td>7.750000</td>\n",
              "      <td>NaN</td>\n",
              "      <td>NaN</td>\n",
              "    </tr>\n",
              "    <tr>\n",
              "      <th>max</th>\n",
              "      <td>10.000000</td>\n",
              "      <td>NaN</td>\n",
              "      <td>NaN</td>\n",
              "    </tr>\n",
              "  </tbody>\n",
              "</table>\n",
              "</div>\n",
              "      <button class=\"colab-df-convert\" onclick=\"convertToInteractive('df-2015da68-df98-4456-85d7-46f1051dde61')\"\n",
              "              title=\"Convert this dataframe to an interactive table.\"\n",
              "              style=\"display:none;\">\n",
              "        \n",
              "  <svg xmlns=\"http://www.w3.org/2000/svg\" height=\"24px\"viewBox=\"0 0 24 24\"\n",
              "       width=\"24px\">\n",
              "    <path d=\"M0 0h24v24H0V0z\" fill=\"none\"/>\n",
              "    <path d=\"M18.56 5.44l.94 2.06.94-2.06 2.06-.94-2.06-.94-.94-2.06-.94 2.06-2.06.94zm-11 1L8.5 8.5l.94-2.06 2.06-.94-2.06-.94L8.5 2.5l-.94 2.06-2.06.94zm10 10l.94 2.06.94-2.06 2.06-.94-2.06-.94-.94-2.06-.94 2.06-2.06.94z\"/><path d=\"M17.41 7.96l-1.37-1.37c-.4-.4-.92-.59-1.43-.59-.52 0-1.04.2-1.43.59L10.3 9.45l-7.72 7.72c-.78.78-.78 2.05 0 2.83L4 21.41c.39.39.9.59 1.41.59.51 0 1.02-.2 1.41-.59l7.78-7.78 2.81-2.81c.8-.78.8-2.07 0-2.86zM5.41 20L4 18.59l7.72-7.72 1.47 1.35L5.41 20z\"/>\n",
              "  </svg>\n",
              "      </button>\n",
              "      \n",
              "  <style>\n",
              "    .colab-df-container {\n",
              "      display:flex;\n",
              "      flex-wrap:wrap;\n",
              "      gap: 12px;\n",
              "    }\n",
              "\n",
              "    .colab-df-convert {\n",
              "      background-color: #E8F0FE;\n",
              "      border: none;\n",
              "      border-radius: 50%;\n",
              "      cursor: pointer;\n",
              "      display: none;\n",
              "      fill: #1967D2;\n",
              "      height: 32px;\n",
              "      padding: 0 0 0 0;\n",
              "      width: 32px;\n",
              "    }\n",
              "\n",
              "    .colab-df-convert:hover {\n",
              "      background-color: #E2EBFA;\n",
              "      box-shadow: 0px 1px 2px rgba(60, 64, 67, 0.3), 0px 1px 3px 1px rgba(60, 64, 67, 0.15);\n",
              "      fill: #174EA6;\n",
              "    }\n",
              "\n",
              "    [theme=dark] .colab-df-convert {\n",
              "      background-color: #3B4455;\n",
              "      fill: #D2E3FC;\n",
              "    }\n",
              "\n",
              "    [theme=dark] .colab-df-convert:hover {\n",
              "      background-color: #434B5C;\n",
              "      box-shadow: 0px 1px 3px 1px rgba(0, 0, 0, 0.15);\n",
              "      filter: drop-shadow(0px 1px 2px rgba(0, 0, 0, 0.3));\n",
              "      fill: #FFFFFF;\n",
              "    }\n",
              "  </style>\n",
              "\n",
              "      <script>\n",
              "        const buttonEl =\n",
              "          document.querySelector('#df-2015da68-df98-4456-85d7-46f1051dde61 button.colab-df-convert');\n",
              "        buttonEl.style.display =\n",
              "          google.colab.kernel.accessAllowed ? 'block' : 'none';\n",
              "\n",
              "        async function convertToInteractive(key) {\n",
              "          const element = document.querySelector('#df-2015da68-df98-4456-85d7-46f1051dde61');\n",
              "          const dataTable =\n",
              "            await google.colab.kernel.invokeFunction('convertToInteractive',\n",
              "                                                     [key], {});\n",
              "          if (!dataTable) return;\n",
              "\n",
              "          const docLinkHtml = 'Like what you see? Visit the ' +\n",
              "            '<a target=\"_blank\" href=https://colab.research.google.com/notebooks/data_table.ipynb>data table notebook</a>'\n",
              "            + ' to learn more about interactive tables.';\n",
              "          element.innerHTML = '';\n",
              "          dataTable['output_type'] = 'display_data';\n",
              "          await google.colab.output.renderOutput(dataTable, element);\n",
              "          const docLink = document.createElement('div');\n",
              "          docLink.innerHTML = docLinkHtml;\n",
              "          element.appendChild(docLink);\n",
              "        }\n",
              "      </script>\n",
              "    </div>\n",
              "  </div>\n",
              "  "
            ]
          },
          "metadata": {},
          "execution_count": 903
        }
      ]
    },
    {
      "cell_type": "markdown",
      "source": [
        "Teniendo en cuenta estas dos opciones, falta considerar el tiempo que se tarda en completar el juego con todo. Para esto, agregué una columna al excel que me permitiera obtener el porcentaje de cuántas veces es más grande el 100% (completar el juego con todo) que el main (tiempo en terminar). A continuación, utilizaré un promedio para obtener el de los dos juegos que ahorita tengo como posibles sugerencias."
      ],
      "metadata": {
        "id": "JbXqhPPSWtFU"
      }
    },
    {
      "cell_type": "code",
      "source": [
        "media_100 = avance[\"t% extra\"].mean()\n",
        "media_100"
      ],
      "metadata": {
        "colab": {
          "base_uri": "https://localhost:8080/"
        },
        "id": "gX0WCiCEXMzW",
        "outputId": "9d508140-277c-47ad-84a8-d05bb752b8af"
      },
      "execution_count": null,
      "outputs": [
        {
          "output_type": "execute_result",
          "data": {
            "text/plain": [
              "205.12430562803695"
            ]
          },
          "metadata": {},
          "execution_count": 904
        }
      ]
    },
    {
      "cell_type": "markdown",
      "source": [
        "Lo anterior nos dice que aproximadamente, se tarda 2 veces más en completar el juego con todo. Esto significa que para completar el juego de 2048 con todo (100%) serían 2 horas, y para el de Baba is You sería un aproximado de 20 horas.\n"
      ],
      "metadata": {
        "id": "5moQ-jqvXzc-"
      }
    },
    {
      "cell_type": "code",
      "source": [
        "# main + %t extra\n",
        "juego2048 = (1 + 2)/ 2\n",
        "juego2048"
      ],
      "metadata": {
        "colab": {
          "base_uri": "https://localhost:8080/"
        },
        "id": "GwWJxZovYxjM",
        "outputId": "22334c83-a117-4f3a-8f54-31f5a418ef4d"
      },
      "execution_count": null,
      "outputs": [
        {
          "output_type": "execute_result",
          "data": {
            "text/plain": [
              "1.5"
            ]
          },
          "metadata": {},
          "execution_count": 905
        }
      ]
    },
    {
      "cell_type": "code",
      "source": [
        "juegoBaba = (10+20)/2\n",
        "juegoBaba"
      ],
      "metadata": {
        "colab": {
          "base_uri": "https://localhost:8080/"
        },
        "id": "T7cb1S7IY-WD",
        "outputId": "68d02028-250d-4129-81e2-ed6823e5ac8a"
      },
      "execution_count": null,
      "outputs": [
        {
          "output_type": "execute_result",
          "data": {
            "text/plain": [
              "15.0"
            ]
          },
          "metadata": {},
          "execution_count": 906
        }
      ]
    },
    {
      "cell_type": "markdown",
      "source": [
        "Con el análisis realizado, recomendaría más el juego 2048 al ser del género y subgénero con mayor frecuencia. No obstante, no me termina de convencer porque es un juego muy simple y porque el tiempo aproximado en terminarlo está muy por debajo del promedio. Como consecuencia, considero que eso podría aburrir al jugador o no crearle la suficiente emoción y entusiasmo. A continuación, propongo una recomendación que me agradó más:"
      ],
      "metadata": {
        "id": "mh3e0QmNaN0o"
      }
    },
    {
      "cell_type": "markdown",
      "source": [
        "# **DECISIÓN FINAL**"
      ],
      "metadata": {
        "id": "hb92saNVauUK"
      }
    },
    {
      "cell_type": "markdown",
      "source": [
        "Esta idea se centra en seguir con el género de puzzle pero en subgénero irme a action-adventure, que en géneros fue el segundo con mayor frecuencia y en subgéneros el cuarto, es decir, sigue siendo de los favoritos."
      ],
      "metadata": {
        "id": "lppe23B7gLef"
      }
    },
    {
      "cell_type": "code",
      "source": [
        "act_adv = puzzles_nojugados.loc[puzzles_nojugados[\"Subgenre\"] == \"Action-Adventure\"]\n",
        "act_adv"
      ],
      "metadata": {
        "colab": {
          "base_uri": "https://localhost:8080/",
          "height": 81
        },
        "id": "u1XcAvycapKu",
        "outputId": "6e29a1a2-7468-427d-ae7c-63af00683f17"
      },
      "execution_count": null,
      "outputs": [
        {
          "output_type": "execute_result",
          "data": {
            "text/plain": [
              "        Game   Genre          Subgenre  Main   1   %\n",
              "1  1000 Amps  Puzzle  Action-Adventure   4.0 NaN NaN"
            ],
            "text/html": [
              "\n",
              "  <div id=\"df-174d1e75-ed55-41ba-8090-5e64b0b79e0a\">\n",
              "    <div class=\"colab-df-container\">\n",
              "      <div>\n",
              "<style scoped>\n",
              "    .dataframe tbody tr th:only-of-type {\n",
              "        vertical-align: middle;\n",
              "    }\n",
              "\n",
              "    .dataframe tbody tr th {\n",
              "        vertical-align: top;\n",
              "    }\n",
              "\n",
              "    .dataframe thead th {\n",
              "        text-align: right;\n",
              "    }\n",
              "</style>\n",
              "<table border=\"1\" class=\"dataframe\">\n",
              "  <thead>\n",
              "    <tr style=\"text-align: right;\">\n",
              "      <th></th>\n",
              "      <th>Game</th>\n",
              "      <th>Genre</th>\n",
              "      <th>Subgenre</th>\n",
              "      <th>Main</th>\n",
              "      <th>1</th>\n",
              "      <th>%</th>\n",
              "    </tr>\n",
              "  </thead>\n",
              "  <tbody>\n",
              "    <tr>\n",
              "      <th>1</th>\n",
              "      <td>1000 Amps</td>\n",
              "      <td>Puzzle</td>\n",
              "      <td>Action-Adventure</td>\n",
              "      <td>4.0</td>\n",
              "      <td>NaN</td>\n",
              "      <td>NaN</td>\n",
              "    </tr>\n",
              "  </tbody>\n",
              "</table>\n",
              "</div>\n",
              "      <button class=\"colab-df-convert\" onclick=\"convertToInteractive('df-174d1e75-ed55-41ba-8090-5e64b0b79e0a')\"\n",
              "              title=\"Convert this dataframe to an interactive table.\"\n",
              "              style=\"display:none;\">\n",
              "        \n",
              "  <svg xmlns=\"http://www.w3.org/2000/svg\" height=\"24px\"viewBox=\"0 0 24 24\"\n",
              "       width=\"24px\">\n",
              "    <path d=\"M0 0h24v24H0V0z\" fill=\"none\"/>\n",
              "    <path d=\"M18.56 5.44l.94 2.06.94-2.06 2.06-.94-2.06-.94-.94-2.06-.94 2.06-2.06.94zm-11 1L8.5 8.5l.94-2.06 2.06-.94-2.06-.94L8.5 2.5l-.94 2.06-2.06.94zm10 10l.94 2.06.94-2.06 2.06-.94-2.06-.94-.94-2.06-.94 2.06-2.06.94z\"/><path d=\"M17.41 7.96l-1.37-1.37c-.4-.4-.92-.59-1.43-.59-.52 0-1.04.2-1.43.59L10.3 9.45l-7.72 7.72c-.78.78-.78 2.05 0 2.83L4 21.41c.39.39.9.59 1.41.59.51 0 1.02-.2 1.41-.59l7.78-7.78 2.81-2.81c.8-.78.8-2.07 0-2.86zM5.41 20L4 18.59l7.72-7.72 1.47 1.35L5.41 20z\"/>\n",
              "  </svg>\n",
              "      </button>\n",
              "      \n",
              "  <style>\n",
              "    .colab-df-container {\n",
              "      display:flex;\n",
              "      flex-wrap:wrap;\n",
              "      gap: 12px;\n",
              "    }\n",
              "\n",
              "    .colab-df-convert {\n",
              "      background-color: #E8F0FE;\n",
              "      border: none;\n",
              "      border-radius: 50%;\n",
              "      cursor: pointer;\n",
              "      display: none;\n",
              "      fill: #1967D2;\n",
              "      height: 32px;\n",
              "      padding: 0 0 0 0;\n",
              "      width: 32px;\n",
              "    }\n",
              "\n",
              "    .colab-df-convert:hover {\n",
              "      background-color: #E2EBFA;\n",
              "      box-shadow: 0px 1px 2px rgba(60, 64, 67, 0.3), 0px 1px 3px 1px rgba(60, 64, 67, 0.15);\n",
              "      fill: #174EA6;\n",
              "    }\n",
              "\n",
              "    [theme=dark] .colab-df-convert {\n",
              "      background-color: #3B4455;\n",
              "      fill: #D2E3FC;\n",
              "    }\n",
              "\n",
              "    [theme=dark] .colab-df-convert:hover {\n",
              "      background-color: #434B5C;\n",
              "      box-shadow: 0px 1px 3px 1px rgba(0, 0, 0, 0.15);\n",
              "      filter: drop-shadow(0px 1px 2px rgba(0, 0, 0, 0.3));\n",
              "      fill: #FFFFFF;\n",
              "    }\n",
              "  </style>\n",
              "\n",
              "      <script>\n",
              "        const buttonEl =\n",
              "          document.querySelector('#df-174d1e75-ed55-41ba-8090-5e64b0b79e0a button.colab-df-convert');\n",
              "        buttonEl.style.display =\n",
              "          google.colab.kernel.accessAllowed ? 'block' : 'none';\n",
              "\n",
              "        async function convertToInteractive(key) {\n",
              "          const element = document.querySelector('#df-174d1e75-ed55-41ba-8090-5e64b0b79e0a');\n",
              "          const dataTable =\n",
              "            await google.colab.kernel.invokeFunction('convertToInteractive',\n",
              "                                                     [key], {});\n",
              "          if (!dataTable) return;\n",
              "\n",
              "          const docLinkHtml = 'Like what you see? Visit the ' +\n",
              "            '<a target=\"_blank\" href=https://colab.research.google.com/notebooks/data_table.ipynb>data table notebook</a>'\n",
              "            + ' to learn more about interactive tables.';\n",
              "          element.innerHTML = '';\n",
              "          dataTable['output_type'] = 'display_data';\n",
              "          await google.colab.output.renderOutput(dataTable, element);\n",
              "          const docLink = document.createElement('div');\n",
              "          docLink.innerHTML = docLinkHtml;\n",
              "          element.appendChild(docLink);\n",
              "        }\n",
              "      </script>\n",
              "    </div>\n",
              "  </div>\n",
              "  "
            ]
          },
          "metadata": {},
          "execution_count": 907
        }
      ]
    },
    {
      "cell_type": "code",
      "source": [
        "# main + %t extra\n",
        "juego1000 = (4 + 8)/ 2\n",
        "juego1000"
      ],
      "metadata": {
        "colab": {
          "base_uri": "https://localhost:8080/"
        },
        "id": "X-PJCodnbWP7",
        "outputId": "3bddb801-bac8-49ef-b33b-bb1dc5961114"
      },
      "execution_count": null,
      "outputs": [
        {
          "output_type": "execute_result",
          "data": {
            "text/plain": [
              "6.0"
            ]
          },
          "metadata": {},
          "execution_count": 908
        }
      ]
    },
    {
      "cell_type": "markdown",
      "source": [
        "Al aplicar el filtro, solamente me salió el juego de 1000 Amps, y justamente al sacar el promedio de main y 100% considerando que durará el doble para terminarlo con todo, el promedio de tiempo que se le invertirá a este juego es de 6 horas, valor que se encuentra mucho más cercano al promedio general establecido anteriormente (5.8 horas). Aunque es un poco mayor, la diferencia es muy baja y este se encuentra dentro de un rango moderado de tiempo al no ser demasiado largo (más de 10 horas) ni muy corto (menos de 3).\n",
        "Como plus, también se considera como Metroidvania, que fue el segundo subgénero con mayor frecuencia después de logic game.\n",
        "De esta manera, concluyo recomendándole 1000 Amps para la próxima vez que esté buscando qué jugar :), ya que tiene puzzles, acción y aventura, metroidvania y un tiempo ideal para jugar y buscar terminarlo con todo lo que se puede."
      ],
      "metadata": {
        "id": "3WCCthg_b_Ez"
      }
    }
  ]
}